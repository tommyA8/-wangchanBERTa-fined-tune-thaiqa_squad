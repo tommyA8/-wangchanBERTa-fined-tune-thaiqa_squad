{
  "nbformat": 4,
  "nbformat_minor": 0,
  "metadata": {
    "colab": {
      "provenance": [],
      "gpuClass": "premium",
      "gpuType": "V100",
      "mount_file_id": "1l9CBLVkfSzqhwI46bz_-0wApJXWd2fYb",
      "authorship_tag": "ABX9TyMqZPfwaG3PBchf/x1x2Ixa",
      "include_colab_link": true
    },
    "kernelspec": {
      "name": "python3",
      "display_name": "Python 3"
    },
    "language_info": {
      "name": "python"
    },
    "widgets": {
      "application/vnd.jupyter.widget-state+json": {
        "7a71f232784f426f876775145b6c9687": {
          "model_module": "@jupyter-widgets/controls",
          "model_name": "HBoxModel",
          "model_module_version": "1.5.0",
          "state": {
            "_dom_classes": [],
            "_model_module": "@jupyter-widgets/controls",
            "_model_module_version": "1.5.0",
            "_model_name": "HBoxModel",
            "_view_count": null,
            "_view_module": "@jupyter-widgets/controls",
            "_view_module_version": "1.5.0",
            "_view_name": "HBoxView",
            "box_style": "",
            "children": [
              "IPY_MODEL_0617c4a061714943864dc6250bfd098f",
              "IPY_MODEL_1876f88712ef464d9c0fe8eb61b3e5f9",
              "IPY_MODEL_4e283d1b097145cfbab347ae674f2375"
            ],
            "layout": "IPY_MODEL_e34df09e51e34b79a9aeb132eb1c6c70"
          }
        },
        "0617c4a061714943864dc6250bfd098f": {
          "model_module": "@jupyter-widgets/controls",
          "model_name": "HTMLModel",
          "model_module_version": "1.5.0",
          "state": {
            "_dom_classes": [],
            "_model_module": "@jupyter-widgets/controls",
            "_model_module_version": "1.5.0",
            "_model_name": "HTMLModel",
            "_view_count": null,
            "_view_module": "@jupyter-widgets/controls",
            "_view_module_version": "1.5.0",
            "_view_name": "HTMLView",
            "description": "",
            "description_tooltip": null,
            "layout": "IPY_MODEL_7f82c85a6c004c9fa2f340ef61f4326a",
            "placeholder": "​",
            "style": "IPY_MODEL_6d0cdbb01eb044469928cb36e1eab7ed",
            "value": "Map: 100%"
          }
        },
        "1876f88712ef464d9c0fe8eb61b3e5f9": {
          "model_module": "@jupyter-widgets/controls",
          "model_name": "FloatProgressModel",
          "model_module_version": "1.5.0",
          "state": {
            "_dom_classes": [],
            "_model_module": "@jupyter-widgets/controls",
            "_model_module_version": "1.5.0",
            "_model_name": "FloatProgressModel",
            "_view_count": null,
            "_view_module": "@jupyter-widgets/controls",
            "_view_module_version": "1.5.0",
            "_view_name": "ProgressView",
            "bar_style": "success",
            "description": "",
            "description_tooltip": null,
            "layout": "IPY_MODEL_252927e8b3664a96b0d3c70c8d29a105",
            "max": 4000,
            "min": 0,
            "orientation": "horizontal",
            "style": "IPY_MODEL_bc188d1ddac2455fb17ecd0c475b6816",
            "value": 4000
          }
        },
        "4e283d1b097145cfbab347ae674f2375": {
          "model_module": "@jupyter-widgets/controls",
          "model_name": "HTMLModel",
          "model_module_version": "1.5.0",
          "state": {
            "_dom_classes": [],
            "_model_module": "@jupyter-widgets/controls",
            "_model_module_version": "1.5.0",
            "_model_name": "HTMLModel",
            "_view_count": null,
            "_view_module": "@jupyter-widgets/controls",
            "_view_module_version": "1.5.0",
            "_view_name": "HTMLView",
            "description": "",
            "description_tooltip": null,
            "layout": "IPY_MODEL_9a852145e380435d84d815c2ea547009",
            "placeholder": "​",
            "style": "IPY_MODEL_9f7cd576800543659743632321be5899",
            "value": " 4000/4000 [01:02&lt;00:00, 59.75 examples/s]"
          }
        },
        "e34df09e51e34b79a9aeb132eb1c6c70": {
          "model_module": "@jupyter-widgets/base",
          "model_name": "LayoutModel",
          "model_module_version": "1.2.0",
          "state": {
            "_model_module": "@jupyter-widgets/base",
            "_model_module_version": "1.2.0",
            "_model_name": "LayoutModel",
            "_view_count": null,
            "_view_module": "@jupyter-widgets/base",
            "_view_module_version": "1.2.0",
            "_view_name": "LayoutView",
            "align_content": null,
            "align_items": null,
            "align_self": null,
            "border": null,
            "bottom": null,
            "display": null,
            "flex": null,
            "flex_flow": null,
            "grid_area": null,
            "grid_auto_columns": null,
            "grid_auto_flow": null,
            "grid_auto_rows": null,
            "grid_column": null,
            "grid_gap": null,
            "grid_row": null,
            "grid_template_areas": null,
            "grid_template_columns": null,
            "grid_template_rows": null,
            "height": null,
            "justify_content": null,
            "justify_items": null,
            "left": null,
            "margin": null,
            "max_height": null,
            "max_width": null,
            "min_height": null,
            "min_width": null,
            "object_fit": null,
            "object_position": null,
            "order": null,
            "overflow": null,
            "overflow_x": null,
            "overflow_y": null,
            "padding": null,
            "right": null,
            "top": null,
            "visibility": null,
            "width": null
          }
        },
        "7f82c85a6c004c9fa2f340ef61f4326a": {
          "model_module": "@jupyter-widgets/base",
          "model_name": "LayoutModel",
          "model_module_version": "1.2.0",
          "state": {
            "_model_module": "@jupyter-widgets/base",
            "_model_module_version": "1.2.0",
            "_model_name": "LayoutModel",
            "_view_count": null,
            "_view_module": "@jupyter-widgets/base",
            "_view_module_version": "1.2.0",
            "_view_name": "LayoutView",
            "align_content": null,
            "align_items": null,
            "align_self": null,
            "border": null,
            "bottom": null,
            "display": null,
            "flex": null,
            "flex_flow": null,
            "grid_area": null,
            "grid_auto_columns": null,
            "grid_auto_flow": null,
            "grid_auto_rows": null,
            "grid_column": null,
            "grid_gap": null,
            "grid_row": null,
            "grid_template_areas": null,
            "grid_template_columns": null,
            "grid_template_rows": null,
            "height": null,
            "justify_content": null,
            "justify_items": null,
            "left": null,
            "margin": null,
            "max_height": null,
            "max_width": null,
            "min_height": null,
            "min_width": null,
            "object_fit": null,
            "object_position": null,
            "order": null,
            "overflow": null,
            "overflow_x": null,
            "overflow_y": null,
            "padding": null,
            "right": null,
            "top": null,
            "visibility": null,
            "width": null
          }
        },
        "6d0cdbb01eb044469928cb36e1eab7ed": {
          "model_module": "@jupyter-widgets/controls",
          "model_name": "DescriptionStyleModel",
          "model_module_version": "1.5.0",
          "state": {
            "_model_module": "@jupyter-widgets/controls",
            "_model_module_version": "1.5.0",
            "_model_name": "DescriptionStyleModel",
            "_view_count": null,
            "_view_module": "@jupyter-widgets/base",
            "_view_module_version": "1.2.0",
            "_view_name": "StyleView",
            "description_width": ""
          }
        },
        "252927e8b3664a96b0d3c70c8d29a105": {
          "model_module": "@jupyter-widgets/base",
          "model_name": "LayoutModel",
          "model_module_version": "1.2.0",
          "state": {
            "_model_module": "@jupyter-widgets/base",
            "_model_module_version": "1.2.0",
            "_model_name": "LayoutModel",
            "_view_count": null,
            "_view_module": "@jupyter-widgets/base",
            "_view_module_version": "1.2.0",
            "_view_name": "LayoutView",
            "align_content": null,
            "align_items": null,
            "align_self": null,
            "border": null,
            "bottom": null,
            "display": null,
            "flex": null,
            "flex_flow": null,
            "grid_area": null,
            "grid_auto_columns": null,
            "grid_auto_flow": null,
            "grid_auto_rows": null,
            "grid_column": null,
            "grid_gap": null,
            "grid_row": null,
            "grid_template_areas": null,
            "grid_template_columns": null,
            "grid_template_rows": null,
            "height": null,
            "justify_content": null,
            "justify_items": null,
            "left": null,
            "margin": null,
            "max_height": null,
            "max_width": null,
            "min_height": null,
            "min_width": null,
            "object_fit": null,
            "object_position": null,
            "order": null,
            "overflow": null,
            "overflow_x": null,
            "overflow_y": null,
            "padding": null,
            "right": null,
            "top": null,
            "visibility": null,
            "width": null
          }
        },
        "bc188d1ddac2455fb17ecd0c475b6816": {
          "model_module": "@jupyter-widgets/controls",
          "model_name": "ProgressStyleModel",
          "model_module_version": "1.5.0",
          "state": {
            "_model_module": "@jupyter-widgets/controls",
            "_model_module_version": "1.5.0",
            "_model_name": "ProgressStyleModel",
            "_view_count": null,
            "_view_module": "@jupyter-widgets/base",
            "_view_module_version": "1.2.0",
            "_view_name": "StyleView",
            "bar_color": null,
            "description_width": ""
          }
        },
        "9a852145e380435d84d815c2ea547009": {
          "model_module": "@jupyter-widgets/base",
          "model_name": "LayoutModel",
          "model_module_version": "1.2.0",
          "state": {
            "_model_module": "@jupyter-widgets/base",
            "_model_module_version": "1.2.0",
            "_model_name": "LayoutModel",
            "_view_count": null,
            "_view_module": "@jupyter-widgets/base",
            "_view_module_version": "1.2.0",
            "_view_name": "LayoutView",
            "align_content": null,
            "align_items": null,
            "align_self": null,
            "border": null,
            "bottom": null,
            "display": null,
            "flex": null,
            "flex_flow": null,
            "grid_area": null,
            "grid_auto_columns": null,
            "grid_auto_flow": null,
            "grid_auto_rows": null,
            "grid_column": null,
            "grid_gap": null,
            "grid_row": null,
            "grid_template_areas": null,
            "grid_template_columns": null,
            "grid_template_rows": null,
            "height": null,
            "justify_content": null,
            "justify_items": null,
            "left": null,
            "margin": null,
            "max_height": null,
            "max_width": null,
            "min_height": null,
            "min_width": null,
            "object_fit": null,
            "object_position": null,
            "order": null,
            "overflow": null,
            "overflow_x": null,
            "overflow_y": null,
            "padding": null,
            "right": null,
            "top": null,
            "visibility": null,
            "width": null
          }
        },
        "9f7cd576800543659743632321be5899": {
          "model_module": "@jupyter-widgets/controls",
          "model_name": "DescriptionStyleModel",
          "model_module_version": "1.5.0",
          "state": {
            "_model_module": "@jupyter-widgets/controls",
            "_model_module_version": "1.5.0",
            "_model_name": "DescriptionStyleModel",
            "_view_count": null,
            "_view_module": "@jupyter-widgets/base",
            "_view_module_version": "1.2.0",
            "_view_name": "StyleView",
            "description_width": ""
          }
        },
        "239ddf02f6094dcda7d041b71ba5d0d2": {
          "model_module": "@jupyter-widgets/controls",
          "model_name": "HBoxModel",
          "model_module_version": "1.5.0",
          "state": {
            "_dom_classes": [],
            "_model_module": "@jupyter-widgets/controls",
            "_model_module_version": "1.5.0",
            "_model_name": "HBoxModel",
            "_view_count": null,
            "_view_module": "@jupyter-widgets/controls",
            "_view_module_version": "1.5.0",
            "_view_name": "HBoxView",
            "box_style": "",
            "children": [
              "IPY_MODEL_9a83aa2a60954fa88e92f57b86279a71",
              "IPY_MODEL_cbb270a97e7445088459f39ce7f4d10e",
              "IPY_MODEL_a6fa8cab43b64f3ba30d13a3f4261399"
            ],
            "layout": "IPY_MODEL_76ff213932f44168a6ad4a3f328a9e2e"
          }
        },
        "9a83aa2a60954fa88e92f57b86279a71": {
          "model_module": "@jupyter-widgets/controls",
          "model_name": "HTMLModel",
          "model_module_version": "1.5.0",
          "state": {
            "_dom_classes": [],
            "_model_module": "@jupyter-widgets/controls",
            "_model_module_version": "1.5.0",
            "_model_name": "HTMLModel",
            "_view_count": null,
            "_view_module": "@jupyter-widgets/controls",
            "_view_module_version": "1.5.0",
            "_view_name": "HTMLView",
            "description": "",
            "description_tooltip": null,
            "layout": "IPY_MODEL_f13e1448d30f44c89837f8166235c731",
            "placeholder": "​",
            "style": "IPY_MODEL_a9f7decda37f4b9cac42d562d1f68676",
            "value": "Map: 100%"
          }
        },
        "cbb270a97e7445088459f39ce7f4d10e": {
          "model_module": "@jupyter-widgets/controls",
          "model_name": "FloatProgressModel",
          "model_module_version": "1.5.0",
          "state": {
            "_dom_classes": [],
            "_model_module": "@jupyter-widgets/controls",
            "_model_module_version": "1.5.0",
            "_model_name": "FloatProgressModel",
            "_view_count": null,
            "_view_module": "@jupyter-widgets/controls",
            "_view_module_version": "1.5.0",
            "_view_name": "ProgressView",
            "bar_style": "success",
            "description": "",
            "description_tooltip": null,
            "layout": "IPY_MODEL_87d67de60f784c60a056396c7c0babd5",
            "max": 74,
            "min": 0,
            "orientation": "horizontal",
            "style": "IPY_MODEL_cd322cbe2f4844cba28dc63d17dcfd95",
            "value": 74
          }
        },
        "a6fa8cab43b64f3ba30d13a3f4261399": {
          "model_module": "@jupyter-widgets/controls",
          "model_name": "HTMLModel",
          "model_module_version": "1.5.0",
          "state": {
            "_dom_classes": [],
            "_model_module": "@jupyter-widgets/controls",
            "_model_module_version": "1.5.0",
            "_model_name": "HTMLModel",
            "_view_count": null,
            "_view_module": "@jupyter-widgets/controls",
            "_view_module_version": "1.5.0",
            "_view_name": "HTMLView",
            "description": "",
            "description_tooltip": null,
            "layout": "IPY_MODEL_e795ac1da1474a46a40017faaae068a0",
            "placeholder": "​",
            "style": "IPY_MODEL_a43d06f9fe484e198e7adfa41bd7d3da",
            "value": " 74/74 [00:01&lt;00:00, 43.17 examples/s]"
          }
        },
        "76ff213932f44168a6ad4a3f328a9e2e": {
          "model_module": "@jupyter-widgets/base",
          "model_name": "LayoutModel",
          "model_module_version": "1.2.0",
          "state": {
            "_model_module": "@jupyter-widgets/base",
            "_model_module_version": "1.2.0",
            "_model_name": "LayoutModel",
            "_view_count": null,
            "_view_module": "@jupyter-widgets/base",
            "_view_module_version": "1.2.0",
            "_view_name": "LayoutView",
            "align_content": null,
            "align_items": null,
            "align_self": null,
            "border": null,
            "bottom": null,
            "display": null,
            "flex": null,
            "flex_flow": null,
            "grid_area": null,
            "grid_auto_columns": null,
            "grid_auto_flow": null,
            "grid_auto_rows": null,
            "grid_column": null,
            "grid_gap": null,
            "grid_row": null,
            "grid_template_areas": null,
            "grid_template_columns": null,
            "grid_template_rows": null,
            "height": null,
            "justify_content": null,
            "justify_items": null,
            "left": null,
            "margin": null,
            "max_height": null,
            "max_width": null,
            "min_height": null,
            "min_width": null,
            "object_fit": null,
            "object_position": null,
            "order": null,
            "overflow": null,
            "overflow_x": null,
            "overflow_y": null,
            "padding": null,
            "right": null,
            "top": null,
            "visibility": null,
            "width": null
          }
        },
        "f13e1448d30f44c89837f8166235c731": {
          "model_module": "@jupyter-widgets/base",
          "model_name": "LayoutModel",
          "model_module_version": "1.2.0",
          "state": {
            "_model_module": "@jupyter-widgets/base",
            "_model_module_version": "1.2.0",
            "_model_name": "LayoutModel",
            "_view_count": null,
            "_view_module": "@jupyter-widgets/base",
            "_view_module_version": "1.2.0",
            "_view_name": "LayoutView",
            "align_content": null,
            "align_items": null,
            "align_self": null,
            "border": null,
            "bottom": null,
            "display": null,
            "flex": null,
            "flex_flow": null,
            "grid_area": null,
            "grid_auto_columns": null,
            "grid_auto_flow": null,
            "grid_auto_rows": null,
            "grid_column": null,
            "grid_gap": null,
            "grid_row": null,
            "grid_template_areas": null,
            "grid_template_columns": null,
            "grid_template_rows": null,
            "height": null,
            "justify_content": null,
            "justify_items": null,
            "left": null,
            "margin": null,
            "max_height": null,
            "max_width": null,
            "min_height": null,
            "min_width": null,
            "object_fit": null,
            "object_position": null,
            "order": null,
            "overflow": null,
            "overflow_x": null,
            "overflow_y": null,
            "padding": null,
            "right": null,
            "top": null,
            "visibility": null,
            "width": null
          }
        },
        "a9f7decda37f4b9cac42d562d1f68676": {
          "model_module": "@jupyter-widgets/controls",
          "model_name": "DescriptionStyleModel",
          "model_module_version": "1.5.0",
          "state": {
            "_model_module": "@jupyter-widgets/controls",
            "_model_module_version": "1.5.0",
            "_model_name": "DescriptionStyleModel",
            "_view_count": null,
            "_view_module": "@jupyter-widgets/base",
            "_view_module_version": "1.2.0",
            "_view_name": "StyleView",
            "description_width": ""
          }
        },
        "87d67de60f784c60a056396c7c0babd5": {
          "model_module": "@jupyter-widgets/base",
          "model_name": "LayoutModel",
          "model_module_version": "1.2.0",
          "state": {
            "_model_module": "@jupyter-widgets/base",
            "_model_module_version": "1.2.0",
            "_model_name": "LayoutModel",
            "_view_count": null,
            "_view_module": "@jupyter-widgets/base",
            "_view_module_version": "1.2.0",
            "_view_name": "LayoutView",
            "align_content": null,
            "align_items": null,
            "align_self": null,
            "border": null,
            "bottom": null,
            "display": null,
            "flex": null,
            "flex_flow": null,
            "grid_area": null,
            "grid_auto_columns": null,
            "grid_auto_flow": null,
            "grid_auto_rows": null,
            "grid_column": null,
            "grid_gap": null,
            "grid_row": null,
            "grid_template_areas": null,
            "grid_template_columns": null,
            "grid_template_rows": null,
            "height": null,
            "justify_content": null,
            "justify_items": null,
            "left": null,
            "margin": null,
            "max_height": null,
            "max_width": null,
            "min_height": null,
            "min_width": null,
            "object_fit": null,
            "object_position": null,
            "order": null,
            "overflow": null,
            "overflow_x": null,
            "overflow_y": null,
            "padding": null,
            "right": null,
            "top": null,
            "visibility": null,
            "width": null
          }
        },
        "cd322cbe2f4844cba28dc63d17dcfd95": {
          "model_module": "@jupyter-widgets/controls",
          "model_name": "ProgressStyleModel",
          "model_module_version": "1.5.0",
          "state": {
            "_model_module": "@jupyter-widgets/controls",
            "_model_module_version": "1.5.0",
            "_model_name": "ProgressStyleModel",
            "_view_count": null,
            "_view_module": "@jupyter-widgets/base",
            "_view_module_version": "1.2.0",
            "_view_name": "StyleView",
            "bar_color": null,
            "description_width": ""
          }
        },
        "e795ac1da1474a46a40017faaae068a0": {
          "model_module": "@jupyter-widgets/base",
          "model_name": "LayoutModel",
          "model_module_version": "1.2.0",
          "state": {
            "_model_module": "@jupyter-widgets/base",
            "_model_module_version": "1.2.0",
            "_model_name": "LayoutModel",
            "_view_count": null,
            "_view_module": "@jupyter-widgets/base",
            "_view_module_version": "1.2.0",
            "_view_name": "LayoutView",
            "align_content": null,
            "align_items": null,
            "align_self": null,
            "border": null,
            "bottom": null,
            "display": null,
            "flex": null,
            "flex_flow": null,
            "grid_area": null,
            "grid_auto_columns": null,
            "grid_auto_flow": null,
            "grid_auto_rows": null,
            "grid_column": null,
            "grid_gap": null,
            "grid_row": null,
            "grid_template_areas": null,
            "grid_template_columns": null,
            "grid_template_rows": null,
            "height": null,
            "justify_content": null,
            "justify_items": null,
            "left": null,
            "margin": null,
            "max_height": null,
            "max_width": null,
            "min_height": null,
            "min_width": null,
            "object_fit": null,
            "object_position": null,
            "order": null,
            "overflow": null,
            "overflow_x": null,
            "overflow_y": null,
            "padding": null,
            "right": null,
            "top": null,
            "visibility": null,
            "width": null
          }
        },
        "a43d06f9fe484e198e7adfa41bd7d3da": {
          "model_module": "@jupyter-widgets/controls",
          "model_name": "DescriptionStyleModel",
          "model_module_version": "1.5.0",
          "state": {
            "_model_module": "@jupyter-widgets/controls",
            "_model_module_version": "1.5.0",
            "_model_name": "DescriptionStyleModel",
            "_view_count": null,
            "_view_module": "@jupyter-widgets/base",
            "_view_module_version": "1.2.0",
            "_view_name": "StyleView",
            "description_width": ""
          }
        }
      }
    },
    "accelerator": "GPU"
  },
  "cells": [
    {
      "cell_type": "markdown",
      "metadata": {
        "id": "view-in-github",
        "colab_type": "text"
      },
      "source": [
        "<a href=\"https://colab.research.google.com/github/tommyA8/wangchanBERTa-fined-tune-thaiqa_squad/blob/main/wangchanBERTa_fined_tune_thaiqa_squad.ipynb\" target=\"_parent\"><img src=\"https://colab.research.google.com/assets/colab-badge.svg\" alt=\"Open In Colab\"/></a>"
      ]
    },
    {
      "cell_type": "markdown",
      "metadata": {
        "id": "6roeLLVh-71u"
      },
      "source": [
        "#Installation and Importing library"
      ]
    },
    {
      "cell_type": "code",
      "source": [
        "# !pip install -q transformers[sentencepiece]\n",
        "!pip install -q transformers[torch]\n",
        "!pip install -q datasets\n",
        "!pip -q install bs4\n",
        "\n",
        "from pandas import DataFrame\n",
        "from bs4 import BeautifulSoup\n",
        "from datasets import load_dataset, Dataset, DatasetDict"
      ],
      "metadata": {
        "id": "QIwLLAsh-NtC"
      },
      "execution_count": 1,
      "outputs": []
    },
    {
      "cell_type": "markdown",
      "source": [
        "#load_dataset"
      ],
      "metadata": {
        "id": "EssHCgZ6_gkX"
      }
    },
    {
      "cell_type": "code",
      "source": [
        "thaiqa_dataset = load_dataset(\"thaiqa_squad\")\n",
        "thaiqa_dataset"
      ],
      "metadata": {
        "colab": {
          "base_uri": "https://localhost:8080/"
        },
        "id": "teueddsC_k2p",
        "outputId": "7e19a89e-e19a-4424-ad64-87116569e517"
      },
      "execution_count": 2,
      "outputs": [
        {
          "output_type": "execute_result",
          "data": {
            "text/plain": [
              "DatasetDict({\n",
              "    train: Dataset({\n",
              "        features: ['question_id', 'article_id', 'context', 'question', 'answers'],\n",
              "        num_rows: 4000\n",
              "    })\n",
              "    validation: Dataset({\n",
              "        features: ['question_id', 'article_id', 'context', 'question', 'answers'],\n",
              "        num_rows: 74\n",
              "    })\n",
              "})"
            ]
          },
          "metadata": {},
          "execution_count": 2
        }
      ]
    },
    {
      "cell_type": "markdown",
      "source": [
        "# Example for Prepare-Data"
      ],
      "metadata": {
        "id": "XNjPg99BOba8"
      }
    },
    {
      "cell_type": "markdown",
      "source": [
        "##1.Data Cleaning"
      ],
      "metadata": {
        "id": "5053yv28E6ez"
      }
    },
    {
      "cell_type": "code",
      "source": [
        "# example = dataset['train'][0]['context']\n",
        "# example"
      ],
      "metadata": {
        "id": "JMCemWueHyz1"
      },
      "execution_count": 3,
      "outputs": []
    },
    {
      "cell_type": "markdown",
      "source": [
        "#### Step 1: HTML Tags"
      ],
      "metadata": {
        "id": "QbmUcG0zHcNm"
      }
    },
    {
      "cell_type": "code",
      "source": [
        "# from bs4 import BeautifulSoup\n",
        "# # remove HTML tag\n",
        "# example = BeautifulSoup(example).get_text()\n",
        "# example"
      ],
      "metadata": {
        "id": "ilnWfjpPHlvp"
      },
      "execution_count": 4,
      "outputs": []
    },
    {
      "cell_type": "markdown",
      "source": [
        "#### Step 2: Punctuation"
      ],
      "metadata": {
        "id": "gFUu6G-SHVQL"
      }
    },
    {
      "cell_type": "code",
      "source": [
        "# import string\n",
        "# punct = string.punctuation\n",
        "\n",
        "# # remove these punctuation\n",
        "# no_punct = [char for char in example if char not in punct]\n",
        "# words_wo_punct = ''.join(no_punct)\n",
        "# words_wo_punct"
      ],
      "metadata": {
        "id": "sTU3PNKYIp_e"
      },
      "execution_count": 5,
      "outputs": []
    },
    {
      "cell_type": "markdown",
      "source": [
        "### Assemble it"
      ],
      "metadata": {
        "id": "imqRlEogMyvX"
      }
    },
    {
      "cell_type": "code",
      "source": [
        "from bs4 import BeautifulSoup\n",
        "import string\n",
        "punct = string.punctuation\n",
        "# print(punct)\n",
        "\n",
        "def cleansing_data(example):\n",
        "  example = BeautifulSoup(example).get_text() # Removal HTML Tag\n",
        "  # no_punct = [char for char in example if char not in punct] # Removal Punctuation #----> ไม่ลบแล้ว เพราะตัวคำตอบใน dataset มันมี\n",
        "  # example  = ''.join(no_punct)\n",
        "  return example"
      ],
      "metadata": {
        "id": "MyfBWSj4M67F"
      },
      "execution_count": 6,
      "outputs": []
    },
    {
      "cell_type": "code",
      "source": [
        "# dataset_train_df['clean_context'] = dataset_train_df['context'].apply(lambda x: cleansing_data(x))\n",
        "# # dataset_valid_df['clean_context'] = dataset_valid_df['context'].apply(lambda x: cleansing_data(x))\n",
        "\n",
        "# # dataset_train_df.head(10)\n",
        "# # dataset_valid_df"
      ],
      "metadata": {
        "id": "TuTXSLGBNuky"
      },
      "execution_count": 7,
      "outputs": []
    },
    {
      "cell_type": "markdown",
      "source": [
        "##2.Find Answer-start and Answer-end"
      ],
      "metadata": {
        "id": "uBNBHqoxv7Ew"
      }
    },
    {
      "cell_type": "code",
      "source": [
        "#Due to cleaning data process, The length of data is changed"
      ],
      "metadata": {
        "id": "lIT0_AwqH7rf"
      },
      "execution_count": 8,
      "outputs": []
    },
    {
      "cell_type": "code",
      "source": [
        "# #Find answer start and answer end\n",
        "# def find_new_answer(example_clean_context, example_answers):\n",
        "#   cntx = example_clean_context\n",
        "#   ans = example_answers\n",
        "#   answer_start = cntx.index(ans['answer'][0])\n",
        "#   answer_end = answer_start + len(ans['answer'][0])\n",
        "#   if ans['answer'][0] == cntx[answer_start:answer_end]:\n",
        "#     ans['answer_begin_position'][0] = int(answer_start)\n",
        "#     ans['answer_end_position'][0] = int(answer_end)\n",
        "#     return ans\n",
        "#   else:\n",
        "#     return \"No answer contain in Context\""
      ],
      "metadata": {
        "id": "dfiIwg8Etb80"
      },
      "execution_count": 9,
      "outputs": []
    },
    {
      "cell_type": "code",
      "source": [
        "# dataset_train_df['new_answers'] = dataset_train_df.apply(lambda x: find_new_answer(x['clean_context'], x['answers']), axis=1 )\n",
        "# # dataset_valid_df['new_answers'] = dataset_train_df.apply(lambda x: find_new_answer(x['clean_context'], x['answers']), axis=1 )\n",
        "\n",
        "# # dataset_train_df.head(10)\n",
        "# # dataset_valid_df"
      ],
      "metadata": {
        "id": "G6UkLvfhluEh"
      },
      "execution_count": 10,
      "outputs": []
    },
    {
      "cell_type": "markdown",
      "source": [
        "# Data-preparation Function (thaiqa_dataset)"
      ],
      "metadata": {
        "id": "Gf3oHE-DGugZ"
      }
    },
    {
      "cell_type": "code",
      "source": [
        "thaiqa_train_df = DataFrame(thaiqa_dataset['train'])\n",
        "thaiqa_valid_df = DataFrame(thaiqa_dataset['validation'])"
      ],
      "metadata": {
        "id": "2tj0d_N2JUwt"
      },
      "execution_count": 11,
      "outputs": []
    },
    {
      "cell_type": "code",
      "source": [
        "thaiqa_train_df.head(4)"
      ],
      "metadata": {
        "id": "d-joymo4MkDc",
        "colab": {
          "base_uri": "https://localhost:8080/",
          "height": 175
        },
        "outputId": "06c101ed-337b-4606-a6b2-33fe113ef94d"
      },
      "execution_count": 12,
      "outputs": [
        {
          "output_type": "execute_result",
          "data": {
            "text/plain": [
              "   question_id  article_id                                            context  \\\n",
              "0            1      115035  <doc id=\"115035\" url=\"https://th.wikipedia.org...   \n",
              "1         2035      115035  <doc id=\"115035\" url=\"https://th.wikipedia.org...   \n",
              "2            2      376583  <doc id=\"376583\" url=\"https://th.wikipedia.org...   \n",
              "3            3      376583  <doc id=\"376583\" url=\"https://th.wikipedia.org...   \n",
              "\n",
              "                                            question  \\\n",
              "0  สุนัขตัวแรกรับบทเป็นเบนจี้ในภาพยนตร์เรื่อง Ben...   \n",
              "1  เพลง Benji's Theme ใช้ประกอบภาพยนตร์เรื่อง Ben...   \n",
              "2  ลูนา 1 เป็นยานอวกาศลำแรกในโครงการลูนาของโซเวีย...   \n",
              "3  ลูนา 1 เป็นยานอวกาศลำแรกในโครงการลูนาของโซเวีย...   \n",
              "\n",
              "                                             answers  \n",
              "0  {'answer': ['ฮิกกิ้นส์'], 'answer_begin_positi...  \n",
              "1  {'answer': ['ชาร์ลี ริช'], 'answer_begin_posit...  \n",
              "2  {'answer': ['เมชตา'], 'answer_begin_position':...  \n",
              "3  {'answer': ['ลมสุริยะ'], 'answer_begin_positio...  "
            ],
            "text/html": [
              "\n",
              "  <div id=\"df-79435826-c3a4-448c-b339-74d5fb8ecda8\" class=\"colab-df-container\">\n",
              "    <div>\n",
              "<style scoped>\n",
              "    .dataframe tbody tr th:only-of-type {\n",
              "        vertical-align: middle;\n",
              "    }\n",
              "\n",
              "    .dataframe tbody tr th {\n",
              "        vertical-align: top;\n",
              "    }\n",
              "\n",
              "    .dataframe thead th {\n",
              "        text-align: right;\n",
              "    }\n",
              "</style>\n",
              "<table border=\"1\" class=\"dataframe\">\n",
              "  <thead>\n",
              "    <tr style=\"text-align: right;\">\n",
              "      <th></th>\n",
              "      <th>question_id</th>\n",
              "      <th>article_id</th>\n",
              "      <th>context</th>\n",
              "      <th>question</th>\n",
              "      <th>answers</th>\n",
              "    </tr>\n",
              "  </thead>\n",
              "  <tbody>\n",
              "    <tr>\n",
              "      <th>0</th>\n",
              "      <td>1</td>\n",
              "      <td>115035</td>\n",
              "      <td>&lt;doc id=\"115035\" url=\"https://th.wikipedia.org...</td>\n",
              "      <td>สุนัขตัวแรกรับบทเป็นเบนจี้ในภาพยนตร์เรื่อง Ben...</td>\n",
              "      <td>{'answer': ['ฮิกกิ้นส์'], 'answer_begin_positi...</td>\n",
              "    </tr>\n",
              "    <tr>\n",
              "      <th>1</th>\n",
              "      <td>2035</td>\n",
              "      <td>115035</td>\n",
              "      <td>&lt;doc id=\"115035\" url=\"https://th.wikipedia.org...</td>\n",
              "      <td>เพลง Benji's Theme ใช้ประกอบภาพยนตร์เรื่อง Ben...</td>\n",
              "      <td>{'answer': ['ชาร์ลี ริช'], 'answer_begin_posit...</td>\n",
              "    </tr>\n",
              "    <tr>\n",
              "      <th>2</th>\n",
              "      <td>2</td>\n",
              "      <td>376583</td>\n",
              "      <td>&lt;doc id=\"376583\" url=\"https://th.wikipedia.org...</td>\n",
              "      <td>ลูนา 1 เป็นยานอวกาศลำแรกในโครงการลูนาของโซเวีย...</td>\n",
              "      <td>{'answer': ['เมชตา'], 'answer_begin_position':...</td>\n",
              "    </tr>\n",
              "    <tr>\n",
              "      <th>3</th>\n",
              "      <td>3</td>\n",
              "      <td>376583</td>\n",
              "      <td>&lt;doc id=\"376583\" url=\"https://th.wikipedia.org...</td>\n",
              "      <td>ลูนา 1 เป็นยานอวกาศลำแรกในโครงการลูนาของโซเวีย...</td>\n",
              "      <td>{'answer': ['ลมสุริยะ'], 'answer_begin_positio...</td>\n",
              "    </tr>\n",
              "  </tbody>\n",
              "</table>\n",
              "</div>\n",
              "    <div class=\"colab-df-buttons\">\n",
              "\n",
              "  <div class=\"colab-df-container\">\n",
              "    <button class=\"colab-df-convert\" onclick=\"convertToInteractive('df-79435826-c3a4-448c-b339-74d5fb8ecda8')\"\n",
              "            title=\"Convert this dataframe to an interactive table.\"\n",
              "            style=\"display:none;\">\n",
              "\n",
              "  <svg xmlns=\"http://www.w3.org/2000/svg\" height=\"24px\" viewBox=\"0 -960 960 960\">\n",
              "    <path d=\"M120-120v-720h720v720H120Zm60-500h600v-160H180v160Zm220 220h160v-160H400v160Zm0 220h160v-160H400v160ZM180-400h160v-160H180v160Zm440 0h160v-160H620v160ZM180-180h160v-160H180v160Zm440 0h160v-160H620v160Z\"/>\n",
              "  </svg>\n",
              "    </button>\n",
              "\n",
              "  <style>\n",
              "    .colab-df-container {\n",
              "      display:flex;\n",
              "      gap: 12px;\n",
              "    }\n",
              "\n",
              "    .colab-df-convert {\n",
              "      background-color: #E8F0FE;\n",
              "      border: none;\n",
              "      border-radius: 50%;\n",
              "      cursor: pointer;\n",
              "      display: none;\n",
              "      fill: #1967D2;\n",
              "      height: 32px;\n",
              "      padding: 0 0 0 0;\n",
              "      width: 32px;\n",
              "    }\n",
              "\n",
              "    .colab-df-convert:hover {\n",
              "      background-color: #E2EBFA;\n",
              "      box-shadow: 0px 1px 2px rgba(60, 64, 67, 0.3), 0px 1px 3px 1px rgba(60, 64, 67, 0.15);\n",
              "      fill: #174EA6;\n",
              "    }\n",
              "\n",
              "    .colab-df-buttons div {\n",
              "      margin-bottom: 4px;\n",
              "    }\n",
              "\n",
              "    [theme=dark] .colab-df-convert {\n",
              "      background-color: #3B4455;\n",
              "      fill: #D2E3FC;\n",
              "    }\n",
              "\n",
              "    [theme=dark] .colab-df-convert:hover {\n",
              "      background-color: #434B5C;\n",
              "      box-shadow: 0px 1px 3px 1px rgba(0, 0, 0, 0.15);\n",
              "      filter: drop-shadow(0px 1px 2px rgba(0, 0, 0, 0.3));\n",
              "      fill: #FFFFFF;\n",
              "    }\n",
              "  </style>\n",
              "\n",
              "    <script>\n",
              "      const buttonEl =\n",
              "        document.querySelector('#df-79435826-c3a4-448c-b339-74d5fb8ecda8 button.colab-df-convert');\n",
              "      buttonEl.style.display =\n",
              "        google.colab.kernel.accessAllowed ? 'block' : 'none';\n",
              "\n",
              "      async function convertToInteractive(key) {\n",
              "        const element = document.querySelector('#df-79435826-c3a4-448c-b339-74d5fb8ecda8');\n",
              "        const dataTable =\n",
              "          await google.colab.kernel.invokeFunction('convertToInteractive',\n",
              "                                                    [key], {});\n",
              "        if (!dataTable) return;\n",
              "\n",
              "        const docLinkHtml = 'Like what you see? Visit the ' +\n",
              "          '<a target=\"_blank\" href=https://colab.research.google.com/notebooks/data_table.ipynb>data table notebook</a>'\n",
              "          + ' to learn more about interactive tables.';\n",
              "        element.innerHTML = '';\n",
              "        dataTable['output_type'] = 'display_data';\n",
              "        await google.colab.output.renderOutput(dataTable, element);\n",
              "        const docLink = document.createElement('div');\n",
              "        docLink.innerHTML = docLinkHtml;\n",
              "        element.appendChild(docLink);\n",
              "      }\n",
              "    </script>\n",
              "  </div>\n",
              "\n",
              "\n",
              "<div id=\"df-b71eddbd-72c3-40ac-829b-1886492e806b\">\n",
              "  <button class=\"colab-df-quickchart\" onclick=\"quickchart('df-b71eddbd-72c3-40ac-829b-1886492e806b')\"\n",
              "            title=\"Suggest charts\"\n",
              "            style=\"display:none;\">\n",
              "\n",
              "<svg xmlns=\"http://www.w3.org/2000/svg\" height=\"24px\"viewBox=\"0 0 24 24\"\n",
              "     width=\"24px\">\n",
              "    <g>\n",
              "        <path d=\"M19 3H5c-1.1 0-2 .9-2 2v14c0 1.1.9 2 2 2h14c1.1 0 2-.9 2-2V5c0-1.1-.9-2-2-2zM9 17H7v-7h2v7zm4 0h-2V7h2v10zm4 0h-2v-4h2v4z\"/>\n",
              "    </g>\n",
              "</svg>\n",
              "  </button>\n",
              "\n",
              "<style>\n",
              "  .colab-df-quickchart {\n",
              "      --bg-color: #E8F0FE;\n",
              "      --fill-color: #1967D2;\n",
              "      --hover-bg-color: #E2EBFA;\n",
              "      --hover-fill-color: #174EA6;\n",
              "      --disabled-fill-color: #AAA;\n",
              "      --disabled-bg-color: #DDD;\n",
              "  }\n",
              "\n",
              "  [theme=dark] .colab-df-quickchart {\n",
              "      --bg-color: #3B4455;\n",
              "      --fill-color: #D2E3FC;\n",
              "      --hover-bg-color: #434B5C;\n",
              "      --hover-fill-color: #FFFFFF;\n",
              "      --disabled-bg-color: #3B4455;\n",
              "      --disabled-fill-color: #666;\n",
              "  }\n",
              "\n",
              "  .colab-df-quickchart {\n",
              "    background-color: var(--bg-color);\n",
              "    border: none;\n",
              "    border-radius: 50%;\n",
              "    cursor: pointer;\n",
              "    display: none;\n",
              "    fill: var(--fill-color);\n",
              "    height: 32px;\n",
              "    padding: 0;\n",
              "    width: 32px;\n",
              "  }\n",
              "\n",
              "  .colab-df-quickchart:hover {\n",
              "    background-color: var(--hover-bg-color);\n",
              "    box-shadow: 0 1px 2px rgba(60, 64, 67, 0.3), 0 1px 3px 1px rgba(60, 64, 67, 0.15);\n",
              "    fill: var(--button-hover-fill-color);\n",
              "  }\n",
              "\n",
              "  .colab-df-quickchart-complete:disabled,\n",
              "  .colab-df-quickchart-complete:disabled:hover {\n",
              "    background-color: var(--disabled-bg-color);\n",
              "    fill: var(--disabled-fill-color);\n",
              "    box-shadow: none;\n",
              "  }\n",
              "\n",
              "  .colab-df-spinner {\n",
              "    border: 2px solid var(--fill-color);\n",
              "    border-color: transparent;\n",
              "    border-bottom-color: var(--fill-color);\n",
              "    animation:\n",
              "      spin 1s steps(1) infinite;\n",
              "  }\n",
              "\n",
              "  @keyframes spin {\n",
              "    0% {\n",
              "      border-color: transparent;\n",
              "      border-bottom-color: var(--fill-color);\n",
              "      border-left-color: var(--fill-color);\n",
              "    }\n",
              "    20% {\n",
              "      border-color: transparent;\n",
              "      border-left-color: var(--fill-color);\n",
              "      border-top-color: var(--fill-color);\n",
              "    }\n",
              "    30% {\n",
              "      border-color: transparent;\n",
              "      border-left-color: var(--fill-color);\n",
              "      border-top-color: var(--fill-color);\n",
              "      border-right-color: var(--fill-color);\n",
              "    }\n",
              "    40% {\n",
              "      border-color: transparent;\n",
              "      border-right-color: var(--fill-color);\n",
              "      border-top-color: var(--fill-color);\n",
              "    }\n",
              "    60% {\n",
              "      border-color: transparent;\n",
              "      border-right-color: var(--fill-color);\n",
              "    }\n",
              "    80% {\n",
              "      border-color: transparent;\n",
              "      border-right-color: var(--fill-color);\n",
              "      border-bottom-color: var(--fill-color);\n",
              "    }\n",
              "    90% {\n",
              "      border-color: transparent;\n",
              "      border-bottom-color: var(--fill-color);\n",
              "    }\n",
              "  }\n",
              "</style>\n",
              "\n",
              "  <script>\n",
              "    async function quickchart(key) {\n",
              "      const quickchartButtonEl =\n",
              "        document.querySelector('#' + key + ' button');\n",
              "      quickchartButtonEl.disabled = true;  // To prevent multiple clicks.\n",
              "      quickchartButtonEl.classList.add('colab-df-spinner');\n",
              "      try {\n",
              "        const charts = await google.colab.kernel.invokeFunction(\n",
              "            'suggestCharts', [key], {});\n",
              "      } catch (error) {\n",
              "        console.error('Error during call to suggestCharts:', error);\n",
              "      }\n",
              "      quickchartButtonEl.classList.remove('colab-df-spinner');\n",
              "      quickchartButtonEl.classList.add('colab-df-quickchart-complete');\n",
              "    }\n",
              "    (() => {\n",
              "      let quickchartButtonEl =\n",
              "        document.querySelector('#df-b71eddbd-72c3-40ac-829b-1886492e806b button');\n",
              "      quickchartButtonEl.style.display =\n",
              "        google.colab.kernel.accessAllowed ? 'block' : 'none';\n",
              "    })();\n",
              "  </script>\n",
              "</div>\n",
              "    </div>\n",
              "  </div>\n"
            ]
          },
          "metadata": {},
          "execution_count": 12
        }
      ]
    },
    {
      "cell_type": "code",
      "source": [
        "import string\n",
        "punct = string.punctuation\n",
        "punct"
      ],
      "metadata": {
        "colab": {
          "base_uri": "https://localhost:8080/",
          "height": 36
        },
        "id": "ug00bnONxT87",
        "outputId": "5554b15c-a59e-483c-9e54-cf443fa8bc85"
      },
      "execution_count": 13,
      "outputs": [
        {
          "output_type": "execute_result",
          "data": {
            "text/plain": [
              "'!\"#$%&\\'()*+,-./:;<=>?@[\\\\]^_`{|}~'"
            ],
            "application/vnd.google.colaboratory.intrinsic+json": {
              "type": "string"
            }
          },
          "metadata": {},
          "execution_count": 13
        }
      ]
    },
    {
      "cell_type": "code",
      "source": [
        "punct = [char for char in punct if not ( char == ','  or char == '\"' or char == '.' or char == '/' or char == \"'\" ) ]  #ลองไม่ลบ \" , \" กับ \" ' \" และ \" . \" ว่าจะเอา \"/\" ด้วย\n",
        "punct  = ''.join(punct)\n",
        "punct"
      ],
      "metadata": {
        "colab": {
          "base_uri": "https://localhost:8080/",
          "height": 36
        },
        "id": "jr8-S-o7w8l6",
        "outputId": "11cfa116-eeac-4591-98c3-885d697465f2"
      },
      "execution_count": 14,
      "outputs": [
        {
          "output_type": "execute_result",
          "data": {
            "text/plain": [
              "'!#$%&()*+-:;<=>?@[\\\\]^_`{|}~'"
            ],
            "application/vnd.google.colaboratory.intrinsic+json": {
              "type": "string"
            }
          },
          "metadata": {},
          "execution_count": 14
        }
      ]
    },
    {
      "cell_type": "code",
      "source": [
        "# 1.cleaning -> 2. find new_answer position ->  3. lowercase for WangchanBERTa Model\n",
        "def prepare_data(example_context, example_question, example_answers):\n",
        "      #cleaning_context\n",
        "      example_context = BeautifulSoup(example_context).get_text() # Removal HTML Tag\n",
        "\n",
        "      #lowercase\n",
        "      example_context = example_context.lower()\n",
        "      example_question = example_question.lower()\n",
        "      example_answers['answer'][0] = example_answers['answer'][0].lower()\n",
        "\n",
        "      # Removal Punctuation\n",
        "      no_punct_context = [char for char in example_context if char not in punct] #context\n",
        "      example_context  = ''.join(no_punct_context)\n",
        "\n",
        "      no_punct_question = [char for char in example_question if char not in punct] #question\n",
        "      example_question  = ''.join(no_punct_question)\n",
        "\n",
        "      no_punct_answers = [char for char in example_answers['answer'][0] if char not in punct]\n",
        "      example_answers['answer'][0]  = ''.join(no_punct_answers)\n",
        "\n",
        "      #find new answer position\n",
        "      answer_start = example_context.index(example_answers['answer'][0])\n",
        "      answer_end = answer_start + len(example_answers['answer'][0])\n",
        "\n",
        "      if example_answers['answer'][0] == example_context[answer_start:answer_end]:\n",
        "          example_answers['answer_begin_position'][0] = answer_start\n",
        "          example_answers['answer_end_position'][0] = answer_end\n",
        "          return example_context, example_question, example_answers\n",
        "      else:\n",
        "          return \"No answer contain in Context\""
      ],
      "metadata": {
        "id": "zBEtTQX0CUoU"
      },
      "execution_count": 15,
      "outputs": []
    },
    {
      "cell_type": "code",
      "source": [
        "thaiqa_train_df['clean_context'], thaiqa_train_df['new_question'], thaiqa_train_df['new_answers'] = zip(*thaiqa_train_df.apply(\n",
        "    lambda x: prepare_data(x['context'], x['question'], x['answers']), axis=1 ))\n",
        "\n",
        "thaiqa_valid_df['clean_context'], thaiqa_valid_df['new_question'], thaiqa_valid_df['new_answers'] = zip(*thaiqa_valid_df.apply(\n",
        "    lambda x: prepare_data(x['context'], x['question'], x['answers']), axis=1 ))"
      ],
      "metadata": {
        "id": "824BEwslJXuX"
      },
      "execution_count": 16,
      "outputs": []
    },
    {
      "cell_type": "code",
      "source": [
        "thaiqa_train_df.head(4)"
      ],
      "metadata": {
        "colab": {
          "base_uri": "https://localhost:8080/",
          "height": 383
        },
        "id": "8RIhrx5bOnWm",
        "outputId": "3d0541df-bbac-4130-888f-15a81eb50936"
      },
      "execution_count": 17,
      "outputs": [
        {
          "output_type": "execute_result",
          "data": {
            "text/plain": [
              "   question_id  article_id                                            context  \\\n",
              "0            1      115035  <doc id=\"115035\" url=\"https://th.wikipedia.org...   \n",
              "1         2035      115035  <doc id=\"115035\" url=\"https://th.wikipedia.org...   \n",
              "2            2      376583  <doc id=\"376583\" url=\"https://th.wikipedia.org...   \n",
              "3            3      376583  <doc id=\"376583\" url=\"https://th.wikipedia.org...   \n",
              "\n",
              "                                            question  \\\n",
              "0  สุนัขตัวแรกรับบทเป็นเบนจี้ในภาพยนตร์เรื่อง Ben...   \n",
              "1  เพลง Benji's Theme ใช้ประกอบภาพยนตร์เรื่อง Ben...   \n",
              "2  ลูนา 1 เป็นยานอวกาศลำแรกในโครงการลูนาของโซเวีย...   \n",
              "3  ลูนา 1 เป็นยานอวกาศลำแรกในโครงการลูนาของโซเวีย...   \n",
              "\n",
              "                                             answers  \\\n",
              "0  {'answer': ['ฮิกกิ้นส์'], 'answer_begin_positi...   \n",
              "1  {'answer': ['ชาร์ลี ริช'], 'answer_begin_posit...   \n",
              "2  {'answer': ['เมชตา'], 'answer_begin_position':...   \n",
              "3  {'answer': ['ลมสุริยะ'], 'answer_begin_positio...   \n",
              "\n",
              "                                       clean_context  \\\n",
              "0  เบนจี้ เบนจี้  เป็นชื่อตัวละครหมาพันทางแสนรู้ ...   \n",
              "1  เบนจี้ เบนจี้  เป็นชื่อตัวละครหมาพันทางแสนรู้ ...   \n",
              "2  ลูนา 1 ลูนา 1 อี1 ซีรีส์ ซึ่งในขณะนั้นรู้จักกั...   \n",
              "3  ลูนา 1 ลูนา 1 อี1 ซีรีส์ ซึ่งในขณะนั้นรู้จักกั...   \n",
              "\n",
              "                                        new_question  \\\n",
              "0  สุนัขตัวแรกรับบทเป็นเบนจี้ในภาพยนตร์เรื่อง ben...   \n",
              "1  เพลง benji's theme ใช้ประกอบภาพยนตร์เรื่อง ben...   \n",
              "2  ลูนา 1 เป็นยานอวกาศลำแรกในโครงการลูนาของโซเวีย...   \n",
              "3  ลูนา 1 เป็นยานอวกาศลำแรกในโครงการลูนาของโซเวีย...   \n",
              "\n",
              "                                         new_answers  \n",
              "0  {'answer': ['ฮิกกิ้นส์'], 'answer_begin_positi...  \n",
              "1  {'answer': ['ชาร์ลี ริช'], 'answer_begin_posit...  \n",
              "2  {'answer': ['เมชตา'], 'answer_begin_position':...  \n",
              "3  {'answer': ['ลมสุริยะ'], 'answer_begin_positio...  "
            ],
            "text/html": [
              "\n",
              "  <div id=\"df-1ff03211-22a9-4a7e-9682-309de3a77400\" class=\"colab-df-container\">\n",
              "    <div>\n",
              "<style scoped>\n",
              "    .dataframe tbody tr th:only-of-type {\n",
              "        vertical-align: middle;\n",
              "    }\n",
              "\n",
              "    .dataframe tbody tr th {\n",
              "        vertical-align: top;\n",
              "    }\n",
              "\n",
              "    .dataframe thead th {\n",
              "        text-align: right;\n",
              "    }\n",
              "</style>\n",
              "<table border=\"1\" class=\"dataframe\">\n",
              "  <thead>\n",
              "    <tr style=\"text-align: right;\">\n",
              "      <th></th>\n",
              "      <th>question_id</th>\n",
              "      <th>article_id</th>\n",
              "      <th>context</th>\n",
              "      <th>question</th>\n",
              "      <th>answers</th>\n",
              "      <th>clean_context</th>\n",
              "      <th>new_question</th>\n",
              "      <th>new_answers</th>\n",
              "    </tr>\n",
              "  </thead>\n",
              "  <tbody>\n",
              "    <tr>\n",
              "      <th>0</th>\n",
              "      <td>1</td>\n",
              "      <td>115035</td>\n",
              "      <td>&lt;doc id=\"115035\" url=\"https://th.wikipedia.org...</td>\n",
              "      <td>สุนัขตัวแรกรับบทเป็นเบนจี้ในภาพยนตร์เรื่อง Ben...</td>\n",
              "      <td>{'answer': ['ฮิกกิ้นส์'], 'answer_begin_positi...</td>\n",
              "      <td>เบนจี้ เบนจี้  เป็นชื่อตัวละครหมาพันทางแสนรู้ ...</td>\n",
              "      <td>สุนัขตัวแรกรับบทเป็นเบนจี้ในภาพยนตร์เรื่อง ben...</td>\n",
              "      <td>{'answer': ['ฮิกกิ้นส์'], 'answer_begin_positi...</td>\n",
              "    </tr>\n",
              "    <tr>\n",
              "      <th>1</th>\n",
              "      <td>2035</td>\n",
              "      <td>115035</td>\n",
              "      <td>&lt;doc id=\"115035\" url=\"https://th.wikipedia.org...</td>\n",
              "      <td>เพลง Benji's Theme ใช้ประกอบภาพยนตร์เรื่อง Ben...</td>\n",
              "      <td>{'answer': ['ชาร์ลี ริช'], 'answer_begin_posit...</td>\n",
              "      <td>เบนจี้ เบนจี้  เป็นชื่อตัวละครหมาพันทางแสนรู้ ...</td>\n",
              "      <td>เพลง benji's theme ใช้ประกอบภาพยนตร์เรื่อง ben...</td>\n",
              "      <td>{'answer': ['ชาร์ลี ริช'], 'answer_begin_posit...</td>\n",
              "    </tr>\n",
              "    <tr>\n",
              "      <th>2</th>\n",
              "      <td>2</td>\n",
              "      <td>376583</td>\n",
              "      <td>&lt;doc id=\"376583\" url=\"https://th.wikipedia.org...</td>\n",
              "      <td>ลูนา 1 เป็นยานอวกาศลำแรกในโครงการลูนาของโซเวีย...</td>\n",
              "      <td>{'answer': ['เมชตา'], 'answer_begin_position':...</td>\n",
              "      <td>ลูนา 1 ลูนา 1 อี1 ซีรีส์ ซึ่งในขณะนั้นรู้จักกั...</td>\n",
              "      <td>ลูนา 1 เป็นยานอวกาศลำแรกในโครงการลูนาของโซเวีย...</td>\n",
              "      <td>{'answer': ['เมชตา'], 'answer_begin_position':...</td>\n",
              "    </tr>\n",
              "    <tr>\n",
              "      <th>3</th>\n",
              "      <td>3</td>\n",
              "      <td>376583</td>\n",
              "      <td>&lt;doc id=\"376583\" url=\"https://th.wikipedia.org...</td>\n",
              "      <td>ลูนา 1 เป็นยานอวกาศลำแรกในโครงการลูนาของโซเวีย...</td>\n",
              "      <td>{'answer': ['ลมสุริยะ'], 'answer_begin_positio...</td>\n",
              "      <td>ลูนา 1 ลูนา 1 อี1 ซีรีส์ ซึ่งในขณะนั้นรู้จักกั...</td>\n",
              "      <td>ลูนา 1 เป็นยานอวกาศลำแรกในโครงการลูนาของโซเวีย...</td>\n",
              "      <td>{'answer': ['ลมสุริยะ'], 'answer_begin_positio...</td>\n",
              "    </tr>\n",
              "  </tbody>\n",
              "</table>\n",
              "</div>\n",
              "    <div class=\"colab-df-buttons\">\n",
              "\n",
              "  <div class=\"colab-df-container\">\n",
              "    <button class=\"colab-df-convert\" onclick=\"convertToInteractive('df-1ff03211-22a9-4a7e-9682-309de3a77400')\"\n",
              "            title=\"Convert this dataframe to an interactive table.\"\n",
              "            style=\"display:none;\">\n",
              "\n",
              "  <svg xmlns=\"http://www.w3.org/2000/svg\" height=\"24px\" viewBox=\"0 -960 960 960\">\n",
              "    <path d=\"M120-120v-720h720v720H120Zm60-500h600v-160H180v160Zm220 220h160v-160H400v160Zm0 220h160v-160H400v160ZM180-400h160v-160H180v160Zm440 0h160v-160H620v160ZM180-180h160v-160H180v160Zm440 0h160v-160H620v160Z\"/>\n",
              "  </svg>\n",
              "    </button>\n",
              "\n",
              "  <style>\n",
              "    .colab-df-container {\n",
              "      display:flex;\n",
              "      gap: 12px;\n",
              "    }\n",
              "\n",
              "    .colab-df-convert {\n",
              "      background-color: #E8F0FE;\n",
              "      border: none;\n",
              "      border-radius: 50%;\n",
              "      cursor: pointer;\n",
              "      display: none;\n",
              "      fill: #1967D2;\n",
              "      height: 32px;\n",
              "      padding: 0 0 0 0;\n",
              "      width: 32px;\n",
              "    }\n",
              "\n",
              "    .colab-df-convert:hover {\n",
              "      background-color: #E2EBFA;\n",
              "      box-shadow: 0px 1px 2px rgba(60, 64, 67, 0.3), 0px 1px 3px 1px rgba(60, 64, 67, 0.15);\n",
              "      fill: #174EA6;\n",
              "    }\n",
              "\n",
              "    .colab-df-buttons div {\n",
              "      margin-bottom: 4px;\n",
              "    }\n",
              "\n",
              "    [theme=dark] .colab-df-convert {\n",
              "      background-color: #3B4455;\n",
              "      fill: #D2E3FC;\n",
              "    }\n",
              "\n",
              "    [theme=dark] .colab-df-convert:hover {\n",
              "      background-color: #434B5C;\n",
              "      box-shadow: 0px 1px 3px 1px rgba(0, 0, 0, 0.15);\n",
              "      filter: drop-shadow(0px 1px 2px rgba(0, 0, 0, 0.3));\n",
              "      fill: #FFFFFF;\n",
              "    }\n",
              "  </style>\n",
              "\n",
              "    <script>\n",
              "      const buttonEl =\n",
              "        document.querySelector('#df-1ff03211-22a9-4a7e-9682-309de3a77400 button.colab-df-convert');\n",
              "      buttonEl.style.display =\n",
              "        google.colab.kernel.accessAllowed ? 'block' : 'none';\n",
              "\n",
              "      async function convertToInteractive(key) {\n",
              "        const element = document.querySelector('#df-1ff03211-22a9-4a7e-9682-309de3a77400');\n",
              "        const dataTable =\n",
              "          await google.colab.kernel.invokeFunction('convertToInteractive',\n",
              "                                                    [key], {});\n",
              "        if (!dataTable) return;\n",
              "\n",
              "        const docLinkHtml = 'Like what you see? Visit the ' +\n",
              "          '<a target=\"_blank\" href=https://colab.research.google.com/notebooks/data_table.ipynb>data table notebook</a>'\n",
              "          + ' to learn more about interactive tables.';\n",
              "        element.innerHTML = '';\n",
              "        dataTable['output_type'] = 'display_data';\n",
              "        await google.colab.output.renderOutput(dataTable, element);\n",
              "        const docLink = document.createElement('div');\n",
              "        docLink.innerHTML = docLinkHtml;\n",
              "        element.appendChild(docLink);\n",
              "      }\n",
              "    </script>\n",
              "  </div>\n",
              "\n",
              "\n",
              "<div id=\"df-753b2326-1718-49ba-8652-b7cd88e659fa\">\n",
              "  <button class=\"colab-df-quickchart\" onclick=\"quickchart('df-753b2326-1718-49ba-8652-b7cd88e659fa')\"\n",
              "            title=\"Suggest charts\"\n",
              "            style=\"display:none;\">\n",
              "\n",
              "<svg xmlns=\"http://www.w3.org/2000/svg\" height=\"24px\"viewBox=\"0 0 24 24\"\n",
              "     width=\"24px\">\n",
              "    <g>\n",
              "        <path d=\"M19 3H5c-1.1 0-2 .9-2 2v14c0 1.1.9 2 2 2h14c1.1 0 2-.9 2-2V5c0-1.1-.9-2-2-2zM9 17H7v-7h2v7zm4 0h-2V7h2v10zm4 0h-2v-4h2v4z\"/>\n",
              "    </g>\n",
              "</svg>\n",
              "  </button>\n",
              "\n",
              "<style>\n",
              "  .colab-df-quickchart {\n",
              "      --bg-color: #E8F0FE;\n",
              "      --fill-color: #1967D2;\n",
              "      --hover-bg-color: #E2EBFA;\n",
              "      --hover-fill-color: #174EA6;\n",
              "      --disabled-fill-color: #AAA;\n",
              "      --disabled-bg-color: #DDD;\n",
              "  }\n",
              "\n",
              "  [theme=dark] .colab-df-quickchart {\n",
              "      --bg-color: #3B4455;\n",
              "      --fill-color: #D2E3FC;\n",
              "      --hover-bg-color: #434B5C;\n",
              "      --hover-fill-color: #FFFFFF;\n",
              "      --disabled-bg-color: #3B4455;\n",
              "      --disabled-fill-color: #666;\n",
              "  }\n",
              "\n",
              "  .colab-df-quickchart {\n",
              "    background-color: var(--bg-color);\n",
              "    border: none;\n",
              "    border-radius: 50%;\n",
              "    cursor: pointer;\n",
              "    display: none;\n",
              "    fill: var(--fill-color);\n",
              "    height: 32px;\n",
              "    padding: 0;\n",
              "    width: 32px;\n",
              "  }\n",
              "\n",
              "  .colab-df-quickchart:hover {\n",
              "    background-color: var(--hover-bg-color);\n",
              "    box-shadow: 0 1px 2px rgba(60, 64, 67, 0.3), 0 1px 3px 1px rgba(60, 64, 67, 0.15);\n",
              "    fill: var(--button-hover-fill-color);\n",
              "  }\n",
              "\n",
              "  .colab-df-quickchart-complete:disabled,\n",
              "  .colab-df-quickchart-complete:disabled:hover {\n",
              "    background-color: var(--disabled-bg-color);\n",
              "    fill: var(--disabled-fill-color);\n",
              "    box-shadow: none;\n",
              "  }\n",
              "\n",
              "  .colab-df-spinner {\n",
              "    border: 2px solid var(--fill-color);\n",
              "    border-color: transparent;\n",
              "    border-bottom-color: var(--fill-color);\n",
              "    animation:\n",
              "      spin 1s steps(1) infinite;\n",
              "  }\n",
              "\n",
              "  @keyframes spin {\n",
              "    0% {\n",
              "      border-color: transparent;\n",
              "      border-bottom-color: var(--fill-color);\n",
              "      border-left-color: var(--fill-color);\n",
              "    }\n",
              "    20% {\n",
              "      border-color: transparent;\n",
              "      border-left-color: var(--fill-color);\n",
              "      border-top-color: var(--fill-color);\n",
              "    }\n",
              "    30% {\n",
              "      border-color: transparent;\n",
              "      border-left-color: var(--fill-color);\n",
              "      border-top-color: var(--fill-color);\n",
              "      border-right-color: var(--fill-color);\n",
              "    }\n",
              "    40% {\n",
              "      border-color: transparent;\n",
              "      border-right-color: var(--fill-color);\n",
              "      border-top-color: var(--fill-color);\n",
              "    }\n",
              "    60% {\n",
              "      border-color: transparent;\n",
              "      border-right-color: var(--fill-color);\n",
              "    }\n",
              "    80% {\n",
              "      border-color: transparent;\n",
              "      border-right-color: var(--fill-color);\n",
              "      border-bottom-color: var(--fill-color);\n",
              "    }\n",
              "    90% {\n",
              "      border-color: transparent;\n",
              "      border-bottom-color: var(--fill-color);\n",
              "    }\n",
              "  }\n",
              "</style>\n",
              "\n",
              "  <script>\n",
              "    async function quickchart(key) {\n",
              "      const quickchartButtonEl =\n",
              "        document.querySelector('#' + key + ' button');\n",
              "      quickchartButtonEl.disabled = true;  // To prevent multiple clicks.\n",
              "      quickchartButtonEl.classList.add('colab-df-spinner');\n",
              "      try {\n",
              "        const charts = await google.colab.kernel.invokeFunction(\n",
              "            'suggestCharts', [key], {});\n",
              "      } catch (error) {\n",
              "        console.error('Error during call to suggestCharts:', error);\n",
              "      }\n",
              "      quickchartButtonEl.classList.remove('colab-df-spinner');\n",
              "      quickchartButtonEl.classList.add('colab-df-quickchart-complete');\n",
              "    }\n",
              "    (() => {\n",
              "      let quickchartButtonEl =\n",
              "        document.querySelector('#df-753b2326-1718-49ba-8652-b7cd88e659fa button');\n",
              "      quickchartButtonEl.style.display =\n",
              "        google.colab.kernel.accessAllowed ? 'block' : 'none';\n",
              "    })();\n",
              "  </script>\n",
              "</div>\n",
              "    </div>\n",
              "  </div>\n"
            ]
          },
          "metadata": {},
          "execution_count": 17
        }
      ]
    },
    {
      "cell_type": "code",
      "source": [
        "thaiqa_valid_df.head(4)"
      ],
      "metadata": {
        "colab": {
          "base_uri": "https://localhost:8080/",
          "height": 313
        },
        "id": "pow1jtVIOpgh",
        "outputId": "b6f63a3b-6c9f-417f-8c32-dc6be72d5c53"
      },
      "execution_count": 18,
      "outputs": [
        {
          "output_type": "execute_result",
          "data": {
            "text/plain": [
              "   question_id  article_id                                            context  \\\n",
              "0            3      639294  <doc id=\"639294\" url=\"https://th.wikipedia.org...   \n",
              "1            5      135329  <doc id=\"135329\" url=\"https://th.wikipedia.org...   \n",
              "2            6      754945  <doc id=\"754945\" url=\"https://th.wikipedia.org...   \n",
              "3            8      524853  <doc id=\"524853\" url=\"https://th.wikipedia.org...   \n",
              "\n",
              "                                            question  \\\n",
              "0               เฝิง เส้าเฟิง รับบทอะไรใน The Palace   \n",
              "1                               ชิงชัน เป็นพืชชนิดใด   \n",
              "2                                  แฝดไข่ร่วมคืออะไร   \n",
              "3  สมเด็จพระราชินีนาถพระองค์เดียวของสเปนมีพระนามว...   \n",
              "\n",
              "                                             answers  \\\n",
              "0  {'answer': ['องค์ชาย 8'], 'answer_begin_positi...   \n",
              "1  {'answer': ['ไม้ยืนต้น'], 'answer_begin_positi...   \n",
              "2  {'answer': ['ลูกทั้งสองเจริญมาจากไซโกตเดียวแล้...   \n",
              "3  {'answer': ['สมเด็จพระราชินีนาถอีซาเบลที่ 2 แห...   \n",
              "\n",
              "                                       clean_context  \\\n",
              "0  เฝิง เส้าเฟิง เฝิง เส้าเฟิง หรือ วิลเลี่ยม เฝิ...   \n",
              "1  ชิงชัน ชิงชัน เป็นชื่อของไม้ยืนต้นขนาดกลางจนถึ...   \n",
              "2  แฝด แฝด  คือ ลูกสองคนหรือตัวที่เกิดในการตั้งคร...   \n",
              "3  สมเด็จพระราชินีนาถอีซาเบลที่ 2 แห่งสเปน สมเด็จ...   \n",
              "\n",
              "                                        new_question  \\\n",
              "0               เฝิง เส้าเฟิง รับบทอะไรใน the palace   \n",
              "1                               ชิงชัน เป็นพืชชนิดใด   \n",
              "2                                  แฝดไข่ร่วมคืออะไร   \n",
              "3  สมเด็จพระราชินีนาถพระองค์เดียวของสเปนมีพระนามว...   \n",
              "\n",
              "                                         new_answers  \n",
              "0  {'answer': ['องค์ชาย 8'], 'answer_begin_positi...  \n",
              "1  {'answer': ['ไม้ยืนต้น'], 'answer_begin_positi...  \n",
              "2  {'answer': ['ลูกทั้งสองเจริญมาจากไซโกตเดียวแล้...  \n",
              "3  {'answer': ['สมเด็จพระราชินีนาถอีซาเบลที่ 2 แห...  "
            ],
            "text/html": [
              "\n",
              "  <div id=\"df-24578913-1ee6-42c1-9c02-8c574731a7b8\" class=\"colab-df-container\">\n",
              "    <div>\n",
              "<style scoped>\n",
              "    .dataframe tbody tr th:only-of-type {\n",
              "        vertical-align: middle;\n",
              "    }\n",
              "\n",
              "    .dataframe tbody tr th {\n",
              "        vertical-align: top;\n",
              "    }\n",
              "\n",
              "    .dataframe thead th {\n",
              "        text-align: right;\n",
              "    }\n",
              "</style>\n",
              "<table border=\"1\" class=\"dataframe\">\n",
              "  <thead>\n",
              "    <tr style=\"text-align: right;\">\n",
              "      <th></th>\n",
              "      <th>question_id</th>\n",
              "      <th>article_id</th>\n",
              "      <th>context</th>\n",
              "      <th>question</th>\n",
              "      <th>answers</th>\n",
              "      <th>clean_context</th>\n",
              "      <th>new_question</th>\n",
              "      <th>new_answers</th>\n",
              "    </tr>\n",
              "  </thead>\n",
              "  <tbody>\n",
              "    <tr>\n",
              "      <th>0</th>\n",
              "      <td>3</td>\n",
              "      <td>639294</td>\n",
              "      <td>&lt;doc id=\"639294\" url=\"https://th.wikipedia.org...</td>\n",
              "      <td>เฝิง เส้าเฟิง รับบทอะไรใน The Palace</td>\n",
              "      <td>{'answer': ['องค์ชาย 8'], 'answer_begin_positi...</td>\n",
              "      <td>เฝิง เส้าเฟิง เฝิง เส้าเฟิง หรือ วิลเลี่ยม เฝิ...</td>\n",
              "      <td>เฝิง เส้าเฟิง รับบทอะไรใน the palace</td>\n",
              "      <td>{'answer': ['องค์ชาย 8'], 'answer_begin_positi...</td>\n",
              "    </tr>\n",
              "    <tr>\n",
              "      <th>1</th>\n",
              "      <td>5</td>\n",
              "      <td>135329</td>\n",
              "      <td>&lt;doc id=\"135329\" url=\"https://th.wikipedia.org...</td>\n",
              "      <td>ชิงชัน เป็นพืชชนิดใด</td>\n",
              "      <td>{'answer': ['ไม้ยืนต้น'], 'answer_begin_positi...</td>\n",
              "      <td>ชิงชัน ชิงชัน เป็นชื่อของไม้ยืนต้นขนาดกลางจนถึ...</td>\n",
              "      <td>ชิงชัน เป็นพืชชนิดใด</td>\n",
              "      <td>{'answer': ['ไม้ยืนต้น'], 'answer_begin_positi...</td>\n",
              "    </tr>\n",
              "    <tr>\n",
              "      <th>2</th>\n",
              "      <td>6</td>\n",
              "      <td>754945</td>\n",
              "      <td>&lt;doc id=\"754945\" url=\"https://th.wikipedia.org...</td>\n",
              "      <td>แฝดไข่ร่วมคืออะไร</td>\n",
              "      <td>{'answer': ['ลูกทั้งสองเจริญมาจากไซโกตเดียวแล้...</td>\n",
              "      <td>แฝด แฝด  คือ ลูกสองคนหรือตัวที่เกิดในการตั้งคร...</td>\n",
              "      <td>แฝดไข่ร่วมคืออะไร</td>\n",
              "      <td>{'answer': ['ลูกทั้งสองเจริญมาจากไซโกตเดียวแล้...</td>\n",
              "    </tr>\n",
              "    <tr>\n",
              "      <th>3</th>\n",
              "      <td>8</td>\n",
              "      <td>524853</td>\n",
              "      <td>&lt;doc id=\"524853\" url=\"https://th.wikipedia.org...</td>\n",
              "      <td>สมเด็จพระราชินีนาถพระองค์เดียวของสเปนมีพระนามว...</td>\n",
              "      <td>{'answer': ['สมเด็จพระราชินีนาถอีซาเบลที่ 2 แห...</td>\n",
              "      <td>สมเด็จพระราชินีนาถอีซาเบลที่ 2 แห่งสเปน สมเด็จ...</td>\n",
              "      <td>สมเด็จพระราชินีนาถพระองค์เดียวของสเปนมีพระนามว...</td>\n",
              "      <td>{'answer': ['สมเด็จพระราชินีนาถอีซาเบลที่ 2 แห...</td>\n",
              "    </tr>\n",
              "  </tbody>\n",
              "</table>\n",
              "</div>\n",
              "    <div class=\"colab-df-buttons\">\n",
              "\n",
              "  <div class=\"colab-df-container\">\n",
              "    <button class=\"colab-df-convert\" onclick=\"convertToInteractive('df-24578913-1ee6-42c1-9c02-8c574731a7b8')\"\n",
              "            title=\"Convert this dataframe to an interactive table.\"\n",
              "            style=\"display:none;\">\n",
              "\n",
              "  <svg xmlns=\"http://www.w3.org/2000/svg\" height=\"24px\" viewBox=\"0 -960 960 960\">\n",
              "    <path d=\"M120-120v-720h720v720H120Zm60-500h600v-160H180v160Zm220 220h160v-160H400v160Zm0 220h160v-160H400v160ZM180-400h160v-160H180v160Zm440 0h160v-160H620v160ZM180-180h160v-160H180v160Zm440 0h160v-160H620v160Z\"/>\n",
              "  </svg>\n",
              "    </button>\n",
              "\n",
              "  <style>\n",
              "    .colab-df-container {\n",
              "      display:flex;\n",
              "      gap: 12px;\n",
              "    }\n",
              "\n",
              "    .colab-df-convert {\n",
              "      background-color: #E8F0FE;\n",
              "      border: none;\n",
              "      border-radius: 50%;\n",
              "      cursor: pointer;\n",
              "      display: none;\n",
              "      fill: #1967D2;\n",
              "      height: 32px;\n",
              "      padding: 0 0 0 0;\n",
              "      width: 32px;\n",
              "    }\n",
              "\n",
              "    .colab-df-convert:hover {\n",
              "      background-color: #E2EBFA;\n",
              "      box-shadow: 0px 1px 2px rgba(60, 64, 67, 0.3), 0px 1px 3px 1px rgba(60, 64, 67, 0.15);\n",
              "      fill: #174EA6;\n",
              "    }\n",
              "\n",
              "    .colab-df-buttons div {\n",
              "      margin-bottom: 4px;\n",
              "    }\n",
              "\n",
              "    [theme=dark] .colab-df-convert {\n",
              "      background-color: #3B4455;\n",
              "      fill: #D2E3FC;\n",
              "    }\n",
              "\n",
              "    [theme=dark] .colab-df-convert:hover {\n",
              "      background-color: #434B5C;\n",
              "      box-shadow: 0px 1px 3px 1px rgba(0, 0, 0, 0.15);\n",
              "      filter: drop-shadow(0px 1px 2px rgba(0, 0, 0, 0.3));\n",
              "      fill: #FFFFFF;\n",
              "    }\n",
              "  </style>\n",
              "\n",
              "    <script>\n",
              "      const buttonEl =\n",
              "        document.querySelector('#df-24578913-1ee6-42c1-9c02-8c574731a7b8 button.colab-df-convert');\n",
              "      buttonEl.style.display =\n",
              "        google.colab.kernel.accessAllowed ? 'block' : 'none';\n",
              "\n",
              "      async function convertToInteractive(key) {\n",
              "        const element = document.querySelector('#df-24578913-1ee6-42c1-9c02-8c574731a7b8');\n",
              "        const dataTable =\n",
              "          await google.colab.kernel.invokeFunction('convertToInteractive',\n",
              "                                                    [key], {});\n",
              "        if (!dataTable) return;\n",
              "\n",
              "        const docLinkHtml = 'Like what you see? Visit the ' +\n",
              "          '<a target=\"_blank\" href=https://colab.research.google.com/notebooks/data_table.ipynb>data table notebook</a>'\n",
              "          + ' to learn more about interactive tables.';\n",
              "        element.innerHTML = '';\n",
              "        dataTable['output_type'] = 'display_data';\n",
              "        await google.colab.output.renderOutput(dataTable, element);\n",
              "        const docLink = document.createElement('div');\n",
              "        docLink.innerHTML = docLinkHtml;\n",
              "        element.appendChild(docLink);\n",
              "      }\n",
              "    </script>\n",
              "  </div>\n",
              "\n",
              "\n",
              "<div id=\"df-77d1c502-5d50-4b89-b775-9e383030ca93\">\n",
              "  <button class=\"colab-df-quickchart\" onclick=\"quickchart('df-77d1c502-5d50-4b89-b775-9e383030ca93')\"\n",
              "            title=\"Suggest charts\"\n",
              "            style=\"display:none;\">\n",
              "\n",
              "<svg xmlns=\"http://www.w3.org/2000/svg\" height=\"24px\"viewBox=\"0 0 24 24\"\n",
              "     width=\"24px\">\n",
              "    <g>\n",
              "        <path d=\"M19 3H5c-1.1 0-2 .9-2 2v14c0 1.1.9 2 2 2h14c1.1 0 2-.9 2-2V5c0-1.1-.9-2-2-2zM9 17H7v-7h2v7zm4 0h-2V7h2v10zm4 0h-2v-4h2v4z\"/>\n",
              "    </g>\n",
              "</svg>\n",
              "  </button>\n",
              "\n",
              "<style>\n",
              "  .colab-df-quickchart {\n",
              "      --bg-color: #E8F0FE;\n",
              "      --fill-color: #1967D2;\n",
              "      --hover-bg-color: #E2EBFA;\n",
              "      --hover-fill-color: #174EA6;\n",
              "      --disabled-fill-color: #AAA;\n",
              "      --disabled-bg-color: #DDD;\n",
              "  }\n",
              "\n",
              "  [theme=dark] .colab-df-quickchart {\n",
              "      --bg-color: #3B4455;\n",
              "      --fill-color: #D2E3FC;\n",
              "      --hover-bg-color: #434B5C;\n",
              "      --hover-fill-color: #FFFFFF;\n",
              "      --disabled-bg-color: #3B4455;\n",
              "      --disabled-fill-color: #666;\n",
              "  }\n",
              "\n",
              "  .colab-df-quickchart {\n",
              "    background-color: var(--bg-color);\n",
              "    border: none;\n",
              "    border-radius: 50%;\n",
              "    cursor: pointer;\n",
              "    display: none;\n",
              "    fill: var(--fill-color);\n",
              "    height: 32px;\n",
              "    padding: 0;\n",
              "    width: 32px;\n",
              "  }\n",
              "\n",
              "  .colab-df-quickchart:hover {\n",
              "    background-color: var(--hover-bg-color);\n",
              "    box-shadow: 0 1px 2px rgba(60, 64, 67, 0.3), 0 1px 3px 1px rgba(60, 64, 67, 0.15);\n",
              "    fill: var(--button-hover-fill-color);\n",
              "  }\n",
              "\n",
              "  .colab-df-quickchart-complete:disabled,\n",
              "  .colab-df-quickchart-complete:disabled:hover {\n",
              "    background-color: var(--disabled-bg-color);\n",
              "    fill: var(--disabled-fill-color);\n",
              "    box-shadow: none;\n",
              "  }\n",
              "\n",
              "  .colab-df-spinner {\n",
              "    border: 2px solid var(--fill-color);\n",
              "    border-color: transparent;\n",
              "    border-bottom-color: var(--fill-color);\n",
              "    animation:\n",
              "      spin 1s steps(1) infinite;\n",
              "  }\n",
              "\n",
              "  @keyframes spin {\n",
              "    0% {\n",
              "      border-color: transparent;\n",
              "      border-bottom-color: var(--fill-color);\n",
              "      border-left-color: var(--fill-color);\n",
              "    }\n",
              "    20% {\n",
              "      border-color: transparent;\n",
              "      border-left-color: var(--fill-color);\n",
              "      border-top-color: var(--fill-color);\n",
              "    }\n",
              "    30% {\n",
              "      border-color: transparent;\n",
              "      border-left-color: var(--fill-color);\n",
              "      border-top-color: var(--fill-color);\n",
              "      border-right-color: var(--fill-color);\n",
              "    }\n",
              "    40% {\n",
              "      border-color: transparent;\n",
              "      border-right-color: var(--fill-color);\n",
              "      border-top-color: var(--fill-color);\n",
              "    }\n",
              "    60% {\n",
              "      border-color: transparent;\n",
              "      border-right-color: var(--fill-color);\n",
              "    }\n",
              "    80% {\n",
              "      border-color: transparent;\n",
              "      border-right-color: var(--fill-color);\n",
              "      border-bottom-color: var(--fill-color);\n",
              "    }\n",
              "    90% {\n",
              "      border-color: transparent;\n",
              "      border-bottom-color: var(--fill-color);\n",
              "    }\n",
              "  }\n",
              "</style>\n",
              "\n",
              "  <script>\n",
              "    async function quickchart(key) {\n",
              "      const quickchartButtonEl =\n",
              "        document.querySelector('#' + key + ' button');\n",
              "      quickchartButtonEl.disabled = true;  // To prevent multiple clicks.\n",
              "      quickchartButtonEl.classList.add('colab-df-spinner');\n",
              "      try {\n",
              "        const charts = await google.colab.kernel.invokeFunction(\n",
              "            'suggestCharts', [key], {});\n",
              "      } catch (error) {\n",
              "        console.error('Error during call to suggestCharts:', error);\n",
              "      }\n",
              "      quickchartButtonEl.classList.remove('colab-df-spinner');\n",
              "      quickchartButtonEl.classList.add('colab-df-quickchart-complete');\n",
              "    }\n",
              "    (() => {\n",
              "      let quickchartButtonEl =\n",
              "        document.querySelector('#df-77d1c502-5d50-4b89-b775-9e383030ca93 button');\n",
              "      quickchartButtonEl.style.display =\n",
              "        google.colab.kernel.accessAllowed ? 'block' : 'none';\n",
              "    })();\n",
              "  </script>\n",
              "</div>\n",
              "    </div>\n",
              "  </div>\n"
            ]
          },
          "metadata": {},
          "execution_count": 18
        }
      ]
    },
    {
      "cell_type": "markdown",
      "source": [
        "#Convert Dataframe to Huggingface datasets"
      ],
      "metadata": {
        "id": "N3lzKkL2wlKg"
      }
    },
    {
      "cell_type": "code",
      "source": [
        "# create dataframe (thaiqa)\n",
        "thaiqa_train = DataFrame()\n",
        "thaiqa_train['question_id'] = thaiqa_train_df['question_id']\n",
        "thaiqa_train['article_id'] = thaiqa_train_df['article_id']\n",
        "thaiqa_train['context'] = thaiqa_train_df['clean_context']\n",
        "thaiqa_train['question'] = thaiqa_train_df['new_question']\n",
        "thaiqa_train['answers'] = thaiqa_train_df['new_answers']\n",
        "thaiqa_valid = DataFrame()\n",
        "thaiqa_valid['question_id'] = thaiqa_valid_df['question_id']\n",
        "thaiqa_valid['article_id'] = thaiqa_valid_df['article_id']\n",
        "thaiqa_valid['context'] = thaiqa_valid_df['clean_context']\n",
        "thaiqa_valid['question'] = thaiqa_valid_df['new_question']\n",
        "thaiqa_valid['answers'] = thaiqa_valid_df['new_answers']"
      ],
      "metadata": {
        "id": "WaYyGc-xTTQw"
      },
      "execution_count": 19,
      "outputs": []
    },
    {
      "cell_type": "code",
      "source": [
        "import datasets\n",
        "\n",
        "thaiqa_train = Dataset.from_dict(thaiqa_train)\n",
        "thaiqa_valid = Dataset.from_dict(thaiqa_valid)\n",
        "thaiqa_dataset = datasets.DatasetDict({\"train\": thaiqa_train,\"validation\": thaiqa_valid})"
      ],
      "metadata": {
        "id": "7SH3sGYOz_Ls"
      },
      "execution_count": 20,
      "outputs": []
    },
    {
      "cell_type": "code",
      "source": [
        "thaiqa_dataset['train'], thaiqa_dataset['validation']"
      ],
      "metadata": {
        "colab": {
          "base_uri": "https://localhost:8080/"
        },
        "id": "hfAQkrZq4PwA",
        "outputId": "8ec0b444-c219-4630-cce9-a20f7847f386"
      },
      "execution_count": 21,
      "outputs": [
        {
          "output_type": "execute_result",
          "data": {
            "text/plain": [
              "(Dataset({\n",
              "     features: ['question_id', 'article_id', 'context', 'question', 'answers'],\n",
              "     num_rows: 4000\n",
              " }),\n",
              " Dataset({\n",
              "     features: ['question_id', 'article_id', 'context', 'question', 'answers'],\n",
              "     num_rows: 74\n",
              " }))"
            ]
          },
          "metadata": {},
          "execution_count": 21
        }
      ]
    },
    {
      "cell_type": "markdown",
      "source": [
        "#Example for Pre-processing"
      ],
      "metadata": {
        "id": "xc0TfSA7Px_B"
      }
    },
    {
      "cell_type": "markdown",
      "source": [
        "**WangchanBERta's paper https://arxiv.org/pdf/2101.09635.pdf**"
      ],
      "metadata": {
        "id": "88vAhYwJk4dh"
      }
    },
    {
      "cell_type": "code",
      "source": [
        "# from transformers import AutoTokenizer\n",
        "\n",
        "# model_checkpoint = \"airesearch/wangchanberta-base-att-spm-uncased\"\n",
        "# tokenizer = AutoTokenizer.from_pretrained(model_checkpoint) #using the same tokenizer of WangchanBERTa"
      ],
      "metadata": {
        "id": "Tpzxb2WdP8kH"
      },
      "execution_count": 22,
      "outputs": []
    },
    {
      "cell_type": "markdown",
      "source": [
        "## Each example from Datset"
      ],
      "metadata": {
        "id": "ejqCOh1ylOaJ"
      }
    },
    {
      "cell_type": "code",
      "source": [
        "# # example = thaiqa_dataset['train'][0]\n",
        "# # example\n",
        "# example = iapp_dataset['train'][71]\n",
        "# example"
      ],
      "metadata": {
        "id": "5oNua3_MW1Ty"
      },
      "execution_count": 23,
      "outputs": []
    },
    {
      "cell_type": "code",
      "source": [
        "# len(tokenizer(example[\"question\"], example[\"context\"])[\"input_ids\"])"
      ],
      "metadata": {
        "id": "Mnnp8cEvP7J0"
      },
      "execution_count": 24,
      "outputs": []
    },
    {
      "cell_type": "code",
      "source": [
        "# max_length = 416 #384 # The maximum length of a feature (question and context)\n",
        "# doc_stride = 128 # The authorized overlap between two part of the context when splitting it is needed."
      ],
      "metadata": {
        "id": "7I_thIDEQAEg"
      },
      "execution_count": 25,
      "outputs": []
    },
    {
      "cell_type": "code",
      "source": [
        "# inputs = tokenizer(\n",
        "#     example['question'],\n",
        "#     example['context'],\n",
        "#     truncation=\"only_second\", #Truncation only context\n",
        "#     max_length=max_length,\n",
        "#     stride=doc_stride, #overlapping of overflowing tokens\n",
        "#     return_overflowing_tokens=True, #return multiple input ids if exceeding max_length\n",
        "#     return_offsets_mapping=True,\n",
        "#     padding=\"max_length\",\n",
        "# )"
      ],
      "metadata": {
        "id": "7LoBqFN6QCGd"
      },
      "execution_count": 26,
      "outputs": []
    },
    {
      "cell_type": "code",
      "source": [
        "# inputs.keys()"
      ],
      "metadata": {
        "id": "Fb2aJOaFQYBh"
      },
      "execution_count": 27,
      "outputs": []
    },
    {
      "cell_type": "code",
      "source": [
        "# print(len(inputs[\"input_ids\"]) )# Have 1 feature due to truncate\n",
        "# print(len(inputs[\"input_ids\"][0]))#Feature 1 has 384 token due to max_length\n",
        "# print(inputs[\"input_ids\"][0])\n",
        "# # print(len(inputs[\"input_ids\"]) )# Have 5 feature due to truncate\n",
        "# # print(len(inputs[\"input_ids\"][0]))#Feature 1 has 384 token due to max_length\n",
        "# # print(len(inputs[\"input_ids\"][-1]) )#Feature 5 has 384 token due to padding=\"max_length\""
      ],
      "metadata": {
        "id": "SoESWMcnQY-H"
      },
      "execution_count": 28,
      "outputs": []
    },
    {
      "cell_type": "code",
      "source": [
        "# # จำนวนเลข 0 คือจำนวนฟีเจอร์\n",
        "# print(inputs['overflow_to_sample_mapping'])"
      ],
      "metadata": {
        "id": "IfGpxXria-Hf"
      },
      "execution_count": 29,
      "outputs": []
    },
    {
      "cell_type": "code",
      "source": [
        "# #ทดลอง Decoding\n",
        "# print(tokenizer.decode(inputs['input_ids'][0]))\n",
        "# #offset_mapping of feature 5\n",
        "# print(inputs['offset_mapping'][0]) # offset_mapping ใช้บอกว่า token นั้น มี char ตั้งแต่ตำแหน่งเท่าไหร่ ถึงเท่าไหร่"
      ],
      "metadata": {
        "id": "RkFQ6I8gSaE6"
      },
      "execution_count": 30,
      "outputs": []
    },
    {
      "cell_type": "code",
      "source": [
        "# sequence_ids = inputs.sequence_ids(-1)\n",
        "# print(sequence_ids)\n",
        "# #0 คือ Token ของ question\n",
        "# #1 คือ Token ของ context"
      ],
      "metadata": {
        "id": "lIjy2NtchHD7"
      },
      "execution_count": 31,
      "outputs": []
    },
    {
      "cell_type": "code",
      "source": [
        "# answers = example[\"answers\"]\n",
        "# start_char = answers[\"answer_start\"][0] #ตำแหน่ง character ตัวแรกของคำตอบ\n",
        "# end_char = answers[\"answer_end\"][0] #ตำแหน่ง character ตัวสุดท้ายของคำตอบ\n",
        "\n",
        "# #ใช้หา token ของ context ที่ span อยู่ใน input_ids ดังตัวอย่างด้านบน\n",
        "# token_start_index = 0\n",
        "# while sequence_ids[token_start_index] != 1:\n",
        "#     token_start_index += 1 # Start token index of the current span in the text.\n",
        "\n",
        "# token_end_index = len(inputs[\"input_ids\"][0]) - 1 #384 - 1 => นับ 0-383 เท่่ากับ 384 token\n",
        "# while sequence_ids[token_end_index] != 1:\n",
        "#     token_end_index -= 1 # End token index of the current span in the text.\n",
        "\n",
        "# offsets = inputs[\"offset_mapping\"][0]\n",
        "\n",
        "# # \"\"\"ตรวจสอบว่า Answer อยู่ใน span ของ context ที่ฟีเจอร์นี้หรือไม่ \"\"\"\n",
        "# if (offsets[token_start_index][0] <= start_char and offsets[token_end_index][1] >= end_char):\n",
        "#   #running from 25 to 440\n",
        "#   while offsets[token_start_index][0] <= start_char: #440\n",
        "#     token_start_index += 1\n",
        "#   answer_start_pos_token = token_start_index - 1 #140\n",
        "\n",
        "#   while offsets[token_end_index][1] >= end_char: #449\n",
        "#     token_end_index -= 1\n",
        "#   answer_end_pos_token = token_end_index + 1 #140\n",
        "\n",
        "#   print(\"Start_End Position: \",answer_start_pos_token,  answer_end_pos_token)\n",
        "# else:\n",
        "#   print(\"The answer is not in this feature.\")\n",
        "\n",
        "# # inputs[\"start_positions\"].append(answer_start_pos_token)\n",
        "# # inputs[\"end_positions\"].append(answer_end_pos_token)\n",
        "\n",
        "# print(tokenizer.decode(inputs[\"input_ids\"][0][answer_start_pos_token:answer_end_pos_token+1]))\n",
        "# print(answers[\"answer\"][0])\n",
        "\n",
        "# assert answers[\"answer\"][0] == tokenizer.decode(inputs[\"input_ids\"][0][answer_start_pos_token:answer_end_pos_token+1]), \"Answer is not correct\""
      ],
      "metadata": {
        "id": "7c3AV_bzai4p"
      },
      "execution_count": 32,
      "outputs": []
    },
    {
      "cell_type": "code",
      "source": [
        "# print(\"Answer is: \",tokenizer.decode(inputs[\"input_ids\"][0][147]))\n",
        "# print(\"Answer is: \",tokenizer.decode(inputs[\"input_ids\"][0][148]))\n",
        "# print(\"Answer is: \",tokenizer.decode(inputs[\"input_ids\"][0][149]))\n",
        "# print(\"Answer is: \",tokenizer.decode(inputs[\"input_ids\"][0][150]))"
      ],
      "metadata": {
        "id": "ik6ajsO3cHm-"
      },
      "execution_count": 33,
      "outputs": []
    },
    {
      "cell_type": "markdown",
      "source": [
        "## Batch Example frome Dataset"
      ],
      "metadata": {
        "id": "Cm2JtEeQlVSG"
      }
    },
    {
      "cell_type": "code",
      "source": [
        "# batched_example = thaiqa_dataset[\"train\"][450:455]\n",
        "# # batched_example = dataset[\"train\"][0:5]\n",
        "\n",
        "# batched_inputs = tokenizer(\n",
        "#     batched_example[\"question\"],\n",
        "#     batched_example[\"context\"],\n",
        "#     truncation=\"only_second\", #Truncation only context\n",
        "#     max_length=max_length,\n",
        "#     stride=doc_stride, #overlapping of overflowing tokens\n",
        "#     return_overflowing_tokens=True, #return multiple input ids if exceeding max_length\n",
        "#     return_offsets_mapping=True,\n",
        "#     padding=\"max_length\",\n",
        "# )\n",
        "\n",
        "# print(f\"The 5 examples gave {len(batched_inputs['input_ids'])} features.\")\n",
        "# print(f\"Here is where each comes from: {batched_inputs['overflow_to_sample_mapping']}.\")"
      ],
      "metadata": {
        "id": "hOeABniIljeV"
      },
      "execution_count": 34,
      "outputs": []
    },
    {
      "cell_type": "code",
      "source": [
        "# batched_inputs.keys()"
      ],
      "metadata": {
        "id": "J_QuP0axmcRm"
      },
      "execution_count": 35,
      "outputs": []
    },
    {
      "cell_type": "code",
      "source": [
        "# start_positions = []\n",
        "# end_positions = []\n",
        "\n",
        "# sample_mapping = batched_inputs[\"overflow_to_sample_mapping\"]# 'The N examples gave M features.'\n",
        "# offset_mapping = batched_inputs[\"offset_mapping\"]\n",
        "\n",
        "# for i, offsets in enumerate(offset_mapping):\n",
        "\n",
        "#     sample_index = sample_mapping[i]\n",
        "#     answers = batched_example[\"answers\"][sample_index]\n",
        "#     start_char = answers[\"answer_begin_position\"][0] #ตำแหน่ง character ตัวแรกของคำตอบ\n",
        "#     end_char = answers[\"answer_end_position\"][0] #ตำแหน่ง character ตัวสุดท้ายของคำตอบ\n",
        "\n",
        "#     sequence_ids = batched_inputs.sequence_ids(i)\n",
        "\n",
        "#     token_context_start = 0\n",
        "#     while sequence_ids[token_context_start] != 1:\n",
        "#         token_context_start += 1\n",
        "\n",
        "#     token_context_end = len(batched_inputs[\"input_ids\"][i]) - 1\n",
        "#     while sequence_ids[token_context_end] != 1:\n",
        "#         token_context_end -= 1\n",
        "\n",
        "#     # if the answer is in the corresponding span of the context: start_context < answer position <end_context\n",
        "#     if (offsets[token_context_start][0] <= start_char and offsets[token_context_end][1] >= end_char):\n",
        "#         while offsets[token_context_start][0] <= start_char:\n",
        "#             token_context_start += 1\n",
        "#         token_context_start = token_context_start - 1\n",
        "\n",
        "#         while offsets[token_context_end][1] >= end_char:\n",
        "#             token_context_end -= 1\n",
        "#         token_context_end = token_context_end + 1\n",
        "\n",
        "#         try:\n",
        "#             # detect incorrect answer when compare with real answer from dataset cause's 'answer_begin_position' and 'answer_end_position' is wrong\n",
        "#             decode_answer = tokenizer.decode(batched_inputs[\"input_ids\"][i][token_context_start:token_context_end+1])\n",
        "#             assert decode_answer == answers[\"answer\"][0]\n",
        "#             start_positions.append(token_context_start)\n",
        "#             end_positions.append(token_context_end)\n",
        "#         except:\n",
        "#             print('incorrect', answers[\"answer\"][0], 'correct:', decode_answer)\n",
        "#             start_positions.append(0)\n",
        "#             end_positions.append(0)\n",
        "#     else: # if the answer is not in the corresponding span of the context\n",
        "#         start_positions.append(0)\n",
        "#         end_positions.append(0)\n",
        "\n",
        "# start_positions, end_positions"
      ],
      "metadata": {
        "id": "etlWo1KxmUMn"
      },
      "execution_count": 36,
      "outputs": []
    },
    {
      "cell_type": "code",
      "source": [
        "# batched_inputs[\"overflow_to_sample_mapping\"]"
      ],
      "metadata": {
        "id": "jkcVsDz_4Kor"
      },
      "execution_count": 37,
      "outputs": []
    },
    {
      "cell_type": "code",
      "source": [
        "# if len(batched_inputs[\"overflow_to_sample_mapping\"]) == len(start_positions):\n",
        "#   print(True)"
      ],
      "metadata": {
        "id": "nr46UNWzxbyo"
      },
      "execution_count": 38,
      "outputs": []
    },
    {
      "cell_type": "code",
      "source": [
        "# idx = 3\n",
        "# sample_index = batched_inputs[\"overflow_to_sample_mapping\"][idx]\n",
        "# answers = batched_example[\"answers\"][sample_index]\n",
        "# answer = answers[\"answer\"][0]\n",
        "# question = batched_example[\"question\"][sample_index]\n",
        "\n",
        "# start = start_positions[idx]\n",
        "# end = end_positions[idx]\n",
        "# labeled_answer = tokenizer.decode(batched_inputs[\"input_ids\"][idx][start : end + 1])\n",
        "\n",
        "# print(question)\n",
        "# print(f\"Theoretical answer: {answer}, labels give: {labeled_answer}\")\n",
        "# print(f\"start_position: {start}, end_positon: {end} \")"
      ],
      "metadata": {
        "id": "00X8VE1Fphii"
      },
      "execution_count": 39,
      "outputs": []
    },
    {
      "cell_type": "markdown",
      "source": [
        "#Pre-processing (thaiqa_dataset)"
      ],
      "metadata": {
        "id": "Noib7UyZ9_un"
      }
    },
    {
      "cell_type": "markdown",
      "source": [
        "**Ref. https://huggingface.co/course/chapter7/7?fw=pt#a-custom-training-loop**"
      ],
      "metadata": {
        "id": "09MNXg6O0hTC"
      }
    },
    {
      "cell_type": "code",
      "source": [
        "from transformers import AutoTokenizer\n",
        "\n",
        "model_checkpoint = \"airesearch/wangchanberta-base-att-spm-uncased\"\n",
        "tokenizer = AutoTokenizer.from_pretrained(model_checkpoint)"
      ],
      "metadata": {
        "id": "f8PhQR2O-JEm"
      },
      "execution_count": 40,
      "outputs": []
    },
    {
      "cell_type": "code",
      "source": [
        "list_wrong_answer_fromthaiqa_dataset = []\n",
        "\n",
        "max_length = 416\n",
        "doc_stride = 128\n",
        "\n",
        "def pre_processing_thaiqa(examples):\n",
        "  wrong_answer_fromthaiqa_dataset = {} # stored wrong answer\n",
        "  inputs = tokenizer(\n",
        "      examples['question'],\n",
        "      examples['context'],\n",
        "      truncation=\"only_second\", # Truncation only context\n",
        "      max_length=max_length,\n",
        "      stride=doc_stride,\n",
        "      return_overflowing_tokens=True,\n",
        "      return_offsets_mapping=True,\n",
        "      padding=\"max_length\",\n",
        "  )\n",
        "  sample_mapping = inputs.pop(\"overflow_to_sample_mapping\") # The N examples gave M features.\n",
        "  offset_mapping = inputs.pop(\"offset_mapping\")\n",
        "\n",
        "  inputs[\"start_positions\"] = []\n",
        "  inputs[\"end_positions\"] = []\n",
        "\n",
        "  for i, offsets in enumerate(offset_mapping):\n",
        "\n",
        "      sequence_ids = inputs.sequence_ids(i)\n",
        "\n",
        "      token_context_start = 0\n",
        "      while sequence_ids[token_context_start] != 1:\n",
        "          token_context_start += 1\n",
        "\n",
        "      token_context_end = len(inputs[\"input_ids\"][i]) - 1\n",
        "      while sequence_ids[token_context_end] != 1:\n",
        "          token_context_end -= 1\n",
        "\n",
        "      sample_index = sample_mapping[i]\n",
        "      answers = examples[\"answers\"][sample_index]\n",
        "      start_char = answers[\"answer_begin_position\"][0]\n",
        "      end_char = answers[\"answer_end_position\"][0]\n",
        "\n",
        "      # if the answer is in the corresponding span of the context: (start_context <= answer position <= end_context)\n",
        "      if (offsets[token_context_start][0] <= start_char and offsets[token_context_end][1] >= end_char):\n",
        "\n",
        "          while offsets[token_context_start][0] <= start_char:\n",
        "              token_context_start += 1\n",
        "          start_positions = token_context_start - 1\n",
        "\n",
        "          while offsets[token_context_end][1] >= end_char:\n",
        "              token_context_end -= 1\n",
        "          end_positions = token_context_end + 1\n",
        "\n",
        "          try:\n",
        "              # detect incorrect answer when compare with real answer from dataset cause's 'answer_begin_position' and 'answer_end_position' is wrong\n",
        "              assert tokenizer.decode(inputs[\"input_ids\"][i][start_positions:end_positions+1]) == answers[\"answer\"][0]\n",
        "              inputs[\"start_positions\"].append(start_positions)\n",
        "              inputs[\"end_positions\"].append(end_positions)\n",
        "          except:\n",
        "              # print('incorrect',answers[\"answer\"][0])\n",
        "              wrong_answer_fromthaiqa_dataset['pre_process_ans'] = tokenizer.decode(inputs[\"input_ids\"][i][start_positions:end_positions+1])\n",
        "              wrong_answer_fromthaiqa_dataset['dataset_answer'] = answers['answer'][0]\n",
        "              # wrong_answer_fromthaiqa_dataset['answers'] = examples['answers']\n",
        "              list_wrong_answer_fromthaiqa_dataset.append(wrong_answer_fromthaiqa_dataset)\n",
        "              wrong_answer_fromthaiqa_dataset = {}\n",
        "              inputs[\"start_positions\"].append(0)\n",
        "              inputs[\"end_positions\"].append(0)\n",
        "      else:\n",
        "          # if the answer is not in the corresponding span of the context\n",
        "          inputs[\"start_positions\"].append(0)\n",
        "          inputs[\"end_positions\"].append(0)\n",
        "\n",
        "  return inputs"
      ],
      "metadata": {
        "id": "SqAggTECkU_g"
      },
      "execution_count": 41,
      "outputs": []
    },
    {
      "cell_type": "code",
      "source": [
        "example = pre_processing_thaiqa(thaiqa_dataset['train'][0:5])\n",
        "print(len(example['start_positions']), len(example['input_ids']))\n",
        "print(example['start_positions'])"
      ],
      "metadata": {
        "id": "M-_8zIcPpnw8",
        "colab": {
          "base_uri": "https://localhost:8080/"
        },
        "outputId": "54dd3151-be3c-4081-bf20-43e7dee71e12"
      },
      "execution_count": 42,
      "outputs": [
        {
          "output_type": "stream",
          "name": "stdout",
          "text": [
            "5 5\n",
            "[147, 136, 46, 150, 0]\n"
          ]
        }
      ]
    },
    {
      "cell_type": "code",
      "source": [
        "tokenized_thaiqa_dataset = thaiqa_dataset.map(pre_processing_thaiqa, batched=True, remove_columns=thaiqa_dataset[\"train\"].column_names)"
      ],
      "metadata": {
        "colab": {
          "base_uri": "https://localhost:8080/",
          "height": 81,
          "referenced_widgets": [
            "7a71f232784f426f876775145b6c9687",
            "0617c4a061714943864dc6250bfd098f",
            "1876f88712ef464d9c0fe8eb61b3e5f9",
            "4e283d1b097145cfbab347ae674f2375",
            "e34df09e51e34b79a9aeb132eb1c6c70",
            "7f82c85a6c004c9fa2f340ef61f4326a",
            "6d0cdbb01eb044469928cb36e1eab7ed",
            "252927e8b3664a96b0d3c70c8d29a105",
            "bc188d1ddac2455fb17ecd0c475b6816",
            "9a852145e380435d84d815c2ea547009",
            "9f7cd576800543659743632321be5899",
            "239ddf02f6094dcda7d041b71ba5d0d2",
            "9a83aa2a60954fa88e92f57b86279a71",
            "cbb270a97e7445088459f39ce7f4d10e",
            "a6fa8cab43b64f3ba30d13a3f4261399",
            "76ff213932f44168a6ad4a3f328a9e2e",
            "f13e1448d30f44c89837f8166235c731",
            "a9f7decda37f4b9cac42d562d1f68676",
            "87d67de60f784c60a056396c7c0babd5",
            "cd322cbe2f4844cba28dc63d17dcfd95",
            "e795ac1da1474a46a40017faaae068a0",
            "a43d06f9fe484e198e7adfa41bd7d3da"
          ]
        },
        "id": "BRYHHNX8v9tn",
        "outputId": "8900c0e3-82ee-46fc-9967-cbe07b67b3d4"
      },
      "execution_count": 43,
      "outputs": [
        {
          "output_type": "display_data",
          "data": {
            "text/plain": [
              "Map:   0%|          | 0/4000 [00:00<?, ? examples/s]"
            ],
            "application/vnd.jupyter.widget-view+json": {
              "version_major": 2,
              "version_minor": 0,
              "model_id": "7a71f232784f426f876775145b6c9687"
            }
          },
          "metadata": {}
        },
        {
          "output_type": "display_data",
          "data": {
            "text/plain": [
              "Map:   0%|          | 0/74 [00:00<?, ? examples/s]"
            ],
            "application/vnd.jupyter.widget-view+json": {
              "version_major": 2,
              "version_minor": 0,
              "model_id": "239ddf02f6094dcda7d041b71ba5d0d2"
            }
          },
          "metadata": {}
        }
      ]
    },
    {
      "cell_type": "code",
      "source": [
        "len(thaiqa_dataset['train']), len(tokenized_thaiqa_dataset[\"train\"])\n",
        "#จำนวนเพิ่มขึ้นจากการ truncation ส่งผลให้มีฟีเจอร์เกิดขึ้นมาเพิ่ม"
      ],
      "metadata": {
        "colab": {
          "base_uri": "https://localhost:8080/"
        },
        "id": "zLfc5fjUbmfg",
        "outputId": "c6ca65f1-e874-4aff-ef12-eeca0fc1444b"
      },
      "execution_count": 44,
      "outputs": [
        {
          "output_type": "execute_result",
          "data": {
            "text/plain": [
              "(4000, 16700)"
            ]
          },
          "metadata": {},
          "execution_count": 44
        }
      ]
    },
    {
      "cell_type": "code",
      "source": [
        "len(thaiqa_dataset[\"validation\"]), len(tokenized_thaiqa_dataset['validation'])"
      ],
      "metadata": {
        "colab": {
          "base_uri": "https://localhost:8080/"
        },
        "id": "317QKGcdyxoR",
        "outputId": "bf26ed99-af6c-4d0d-8b2a-f8b02827f0c3"
      },
      "execution_count": 45,
      "outputs": [
        {
          "output_type": "execute_result",
          "data": {
            "text/plain": [
              "(74, 268)"
            ]
          },
          "metadata": {},
          "execution_count": 45
        }
      ]
    },
    {
      "cell_type": "markdown",
      "source": [
        "**cause's *'answer_begin_position'* and *'answer_end_position'* is wrong**"
      ],
      "metadata": {
        "id": "7xQjRVZg0qLL"
      }
    },
    {
      "cell_type": "code",
      "source": [
        "len(list_wrong_answer_fromthaiqa_dataset)"
      ],
      "metadata": {
        "id": "7KIJWMXi05f8",
        "colab": {
          "base_uri": "https://localhost:8080/"
        },
        "outputId": "4fd30cb9-518c-4a7e-9cf0-3f8c26b8b993"
      },
      "execution_count": 46,
      "outputs": [
        {
          "output_type": "execute_result",
          "data": {
            "text/plain": [
              "576"
            ]
          },
          "metadata": {},
          "execution_count": 46
        }
      ]
    },
    {
      "cell_type": "code",
      "source": [
        "#cause's 'answer_begin_position' and 'answer_end_position' is wrong\n",
        "worng_ans_df = DataFrame(list_wrong_answer_fromthaiqa_dataset)\n",
        "worng_ans_df"
      ],
      "metadata": {
        "colab": {
          "base_uri": "https://localhost:8080/",
          "height": 423
        },
        "id": "cqdT_FxyMOji",
        "outputId": "4752aab2-a95c-4081-d0d3-80b1bcd5de5c"
      },
      "execution_count": 47,
      "outputs": [
        {
          "output_type": "execute_result",
          "data": {
            "text/plain": [
              "                         pre_process_ans                   dataset_answer\n",
              "0                              ในปี 1933                          ปี 1933\n",
              "1                              ในปี 1933                          ปี 1933\n",
              "2                             ของรัฐนาซี                          รัฐนาซี\n",
              "3    อดีตประธานาธิบดีวิลเลียม เอช. ทัฟต์  ประธานาธิบดีวิลเลียม เอช. ทัฟต์\n",
              "4                        เป็นอันดับที่ 2                      อันดับที่ 2\n",
              "..                                   ...                              ...\n",
              "571  ที่ดินดอนสามเหลี่ยมปากแม่น้ําอิรวดี  ดินดอนสามเหลี่ยมปากแม่น้ำอิรวดี\n",
              "572                      จาเร็ด คัชเนอร์                  จาเร็ด คัชเนอร์\n",
              "573           เมื่อเดือนตุลาคม ค.ศ. 1958            เดือนตุลาคม ค.ศ. 1958\n",
              "574                    ของประเทศฝรั่งเศส                   ประเทศฝรั่งเศส\n",
              "575                        จังหวัดลําพูน                     จังหวัดลำพูน\n",
              "\n",
              "[576 rows x 2 columns]"
            ],
            "text/html": [
              "\n",
              "  <div id=\"df-bbf9e372-d6d9-4133-989f-acbf1274fe74\" class=\"colab-df-container\">\n",
              "    <div>\n",
              "<style scoped>\n",
              "    .dataframe tbody tr th:only-of-type {\n",
              "        vertical-align: middle;\n",
              "    }\n",
              "\n",
              "    .dataframe tbody tr th {\n",
              "        vertical-align: top;\n",
              "    }\n",
              "\n",
              "    .dataframe thead th {\n",
              "        text-align: right;\n",
              "    }\n",
              "</style>\n",
              "<table border=\"1\" class=\"dataframe\">\n",
              "  <thead>\n",
              "    <tr style=\"text-align: right;\">\n",
              "      <th></th>\n",
              "      <th>pre_process_ans</th>\n",
              "      <th>dataset_answer</th>\n",
              "    </tr>\n",
              "  </thead>\n",
              "  <tbody>\n",
              "    <tr>\n",
              "      <th>0</th>\n",
              "      <td>ในปี 1933</td>\n",
              "      <td>ปี 1933</td>\n",
              "    </tr>\n",
              "    <tr>\n",
              "      <th>1</th>\n",
              "      <td>ในปี 1933</td>\n",
              "      <td>ปี 1933</td>\n",
              "    </tr>\n",
              "    <tr>\n",
              "      <th>2</th>\n",
              "      <td>ของรัฐนาซี</td>\n",
              "      <td>รัฐนาซี</td>\n",
              "    </tr>\n",
              "    <tr>\n",
              "      <th>3</th>\n",
              "      <td>อดีตประธานาธิบดีวิลเลียม เอช. ทัฟต์</td>\n",
              "      <td>ประธานาธิบดีวิลเลียม เอช. ทัฟต์</td>\n",
              "    </tr>\n",
              "    <tr>\n",
              "      <th>4</th>\n",
              "      <td>เป็นอันดับที่ 2</td>\n",
              "      <td>อันดับที่ 2</td>\n",
              "    </tr>\n",
              "    <tr>\n",
              "      <th>...</th>\n",
              "      <td>...</td>\n",
              "      <td>...</td>\n",
              "    </tr>\n",
              "    <tr>\n",
              "      <th>571</th>\n",
              "      <td>ที่ดินดอนสามเหลี่ยมปากแม่น้ําอิรวดี</td>\n",
              "      <td>ดินดอนสามเหลี่ยมปากแม่น้ำอิรวดี</td>\n",
              "    </tr>\n",
              "    <tr>\n",
              "      <th>572</th>\n",
              "      <td>จาเร็ด คัชเนอร์</td>\n",
              "      <td>จาเร็ด คัชเนอร์</td>\n",
              "    </tr>\n",
              "    <tr>\n",
              "      <th>573</th>\n",
              "      <td>เมื่อเดือนตุลาคม ค.ศ. 1958</td>\n",
              "      <td>เดือนตุลาคม ค.ศ. 1958</td>\n",
              "    </tr>\n",
              "    <tr>\n",
              "      <th>574</th>\n",
              "      <td>ของประเทศฝรั่งเศส</td>\n",
              "      <td>ประเทศฝรั่งเศส</td>\n",
              "    </tr>\n",
              "    <tr>\n",
              "      <th>575</th>\n",
              "      <td>จังหวัดลําพูน</td>\n",
              "      <td>จังหวัดลำพูน</td>\n",
              "    </tr>\n",
              "  </tbody>\n",
              "</table>\n",
              "<p>576 rows × 2 columns</p>\n",
              "</div>\n",
              "    <div class=\"colab-df-buttons\">\n",
              "\n",
              "  <div class=\"colab-df-container\">\n",
              "    <button class=\"colab-df-convert\" onclick=\"convertToInteractive('df-bbf9e372-d6d9-4133-989f-acbf1274fe74')\"\n",
              "            title=\"Convert this dataframe to an interactive table.\"\n",
              "            style=\"display:none;\">\n",
              "\n",
              "  <svg xmlns=\"http://www.w3.org/2000/svg\" height=\"24px\" viewBox=\"0 -960 960 960\">\n",
              "    <path d=\"M120-120v-720h720v720H120Zm60-500h600v-160H180v160Zm220 220h160v-160H400v160Zm0 220h160v-160H400v160ZM180-400h160v-160H180v160Zm440 0h160v-160H620v160ZM180-180h160v-160H180v160Zm440 0h160v-160H620v160Z\"/>\n",
              "  </svg>\n",
              "    </button>\n",
              "\n",
              "  <style>\n",
              "    .colab-df-container {\n",
              "      display:flex;\n",
              "      gap: 12px;\n",
              "    }\n",
              "\n",
              "    .colab-df-convert {\n",
              "      background-color: #E8F0FE;\n",
              "      border: none;\n",
              "      border-radius: 50%;\n",
              "      cursor: pointer;\n",
              "      display: none;\n",
              "      fill: #1967D2;\n",
              "      height: 32px;\n",
              "      padding: 0 0 0 0;\n",
              "      width: 32px;\n",
              "    }\n",
              "\n",
              "    .colab-df-convert:hover {\n",
              "      background-color: #E2EBFA;\n",
              "      box-shadow: 0px 1px 2px rgba(60, 64, 67, 0.3), 0px 1px 3px 1px rgba(60, 64, 67, 0.15);\n",
              "      fill: #174EA6;\n",
              "    }\n",
              "\n",
              "    .colab-df-buttons div {\n",
              "      margin-bottom: 4px;\n",
              "    }\n",
              "\n",
              "    [theme=dark] .colab-df-convert {\n",
              "      background-color: #3B4455;\n",
              "      fill: #D2E3FC;\n",
              "    }\n",
              "\n",
              "    [theme=dark] .colab-df-convert:hover {\n",
              "      background-color: #434B5C;\n",
              "      box-shadow: 0px 1px 3px 1px rgba(0, 0, 0, 0.15);\n",
              "      filter: drop-shadow(0px 1px 2px rgba(0, 0, 0, 0.3));\n",
              "      fill: #FFFFFF;\n",
              "    }\n",
              "  </style>\n",
              "\n",
              "    <script>\n",
              "      const buttonEl =\n",
              "        document.querySelector('#df-bbf9e372-d6d9-4133-989f-acbf1274fe74 button.colab-df-convert');\n",
              "      buttonEl.style.display =\n",
              "        google.colab.kernel.accessAllowed ? 'block' : 'none';\n",
              "\n",
              "      async function convertToInteractive(key) {\n",
              "        const element = document.querySelector('#df-bbf9e372-d6d9-4133-989f-acbf1274fe74');\n",
              "        const dataTable =\n",
              "          await google.colab.kernel.invokeFunction('convertToInteractive',\n",
              "                                                    [key], {});\n",
              "        if (!dataTable) return;\n",
              "\n",
              "        const docLinkHtml = 'Like what you see? Visit the ' +\n",
              "          '<a target=\"_blank\" href=https://colab.research.google.com/notebooks/data_table.ipynb>data table notebook</a>'\n",
              "          + ' to learn more about interactive tables.';\n",
              "        element.innerHTML = '';\n",
              "        dataTable['output_type'] = 'display_data';\n",
              "        await google.colab.output.renderOutput(dataTable, element);\n",
              "        const docLink = document.createElement('div');\n",
              "        docLink.innerHTML = docLinkHtml;\n",
              "        element.appendChild(docLink);\n",
              "      }\n",
              "    </script>\n",
              "  </div>\n",
              "\n",
              "\n",
              "<div id=\"df-2391f4ba-1e31-46ab-89f3-ac01a88af66c\">\n",
              "  <button class=\"colab-df-quickchart\" onclick=\"quickchart('df-2391f4ba-1e31-46ab-89f3-ac01a88af66c')\"\n",
              "            title=\"Suggest charts\"\n",
              "            style=\"display:none;\">\n",
              "\n",
              "<svg xmlns=\"http://www.w3.org/2000/svg\" height=\"24px\"viewBox=\"0 0 24 24\"\n",
              "     width=\"24px\">\n",
              "    <g>\n",
              "        <path d=\"M19 3H5c-1.1 0-2 .9-2 2v14c0 1.1.9 2 2 2h14c1.1 0 2-.9 2-2V5c0-1.1-.9-2-2-2zM9 17H7v-7h2v7zm4 0h-2V7h2v10zm4 0h-2v-4h2v4z\"/>\n",
              "    </g>\n",
              "</svg>\n",
              "  </button>\n",
              "\n",
              "<style>\n",
              "  .colab-df-quickchart {\n",
              "      --bg-color: #E8F0FE;\n",
              "      --fill-color: #1967D2;\n",
              "      --hover-bg-color: #E2EBFA;\n",
              "      --hover-fill-color: #174EA6;\n",
              "      --disabled-fill-color: #AAA;\n",
              "      --disabled-bg-color: #DDD;\n",
              "  }\n",
              "\n",
              "  [theme=dark] .colab-df-quickchart {\n",
              "      --bg-color: #3B4455;\n",
              "      --fill-color: #D2E3FC;\n",
              "      --hover-bg-color: #434B5C;\n",
              "      --hover-fill-color: #FFFFFF;\n",
              "      --disabled-bg-color: #3B4455;\n",
              "      --disabled-fill-color: #666;\n",
              "  }\n",
              "\n",
              "  .colab-df-quickchart {\n",
              "    background-color: var(--bg-color);\n",
              "    border: none;\n",
              "    border-radius: 50%;\n",
              "    cursor: pointer;\n",
              "    display: none;\n",
              "    fill: var(--fill-color);\n",
              "    height: 32px;\n",
              "    padding: 0;\n",
              "    width: 32px;\n",
              "  }\n",
              "\n",
              "  .colab-df-quickchart:hover {\n",
              "    background-color: var(--hover-bg-color);\n",
              "    box-shadow: 0 1px 2px rgba(60, 64, 67, 0.3), 0 1px 3px 1px rgba(60, 64, 67, 0.15);\n",
              "    fill: var(--button-hover-fill-color);\n",
              "  }\n",
              "\n",
              "  .colab-df-quickchart-complete:disabled,\n",
              "  .colab-df-quickchart-complete:disabled:hover {\n",
              "    background-color: var(--disabled-bg-color);\n",
              "    fill: var(--disabled-fill-color);\n",
              "    box-shadow: none;\n",
              "  }\n",
              "\n",
              "  .colab-df-spinner {\n",
              "    border: 2px solid var(--fill-color);\n",
              "    border-color: transparent;\n",
              "    border-bottom-color: var(--fill-color);\n",
              "    animation:\n",
              "      spin 1s steps(1) infinite;\n",
              "  }\n",
              "\n",
              "  @keyframes spin {\n",
              "    0% {\n",
              "      border-color: transparent;\n",
              "      border-bottom-color: var(--fill-color);\n",
              "      border-left-color: var(--fill-color);\n",
              "    }\n",
              "    20% {\n",
              "      border-color: transparent;\n",
              "      border-left-color: var(--fill-color);\n",
              "      border-top-color: var(--fill-color);\n",
              "    }\n",
              "    30% {\n",
              "      border-color: transparent;\n",
              "      border-left-color: var(--fill-color);\n",
              "      border-top-color: var(--fill-color);\n",
              "      border-right-color: var(--fill-color);\n",
              "    }\n",
              "    40% {\n",
              "      border-color: transparent;\n",
              "      border-right-color: var(--fill-color);\n",
              "      border-top-color: var(--fill-color);\n",
              "    }\n",
              "    60% {\n",
              "      border-color: transparent;\n",
              "      border-right-color: var(--fill-color);\n",
              "    }\n",
              "    80% {\n",
              "      border-color: transparent;\n",
              "      border-right-color: var(--fill-color);\n",
              "      border-bottom-color: var(--fill-color);\n",
              "    }\n",
              "    90% {\n",
              "      border-color: transparent;\n",
              "      border-bottom-color: var(--fill-color);\n",
              "    }\n",
              "  }\n",
              "</style>\n",
              "\n",
              "  <script>\n",
              "    async function quickchart(key) {\n",
              "      const quickchartButtonEl =\n",
              "        document.querySelector('#' + key + ' button');\n",
              "      quickchartButtonEl.disabled = true;  // To prevent multiple clicks.\n",
              "      quickchartButtonEl.classList.add('colab-df-spinner');\n",
              "      try {\n",
              "        const charts = await google.colab.kernel.invokeFunction(\n",
              "            'suggestCharts', [key], {});\n",
              "      } catch (error) {\n",
              "        console.error('Error during call to suggestCharts:', error);\n",
              "      }\n",
              "      quickchartButtonEl.classList.remove('colab-df-spinner');\n",
              "      quickchartButtonEl.classList.add('colab-df-quickchart-complete');\n",
              "    }\n",
              "    (() => {\n",
              "      let quickchartButtonEl =\n",
              "        document.querySelector('#df-2391f4ba-1e31-46ab-89f3-ac01a88af66c button');\n",
              "      quickchartButtonEl.style.display =\n",
              "        google.colab.kernel.accessAllowed ? 'block' : 'none';\n",
              "    })();\n",
              "  </script>\n",
              "</div>\n",
              "    </div>\n",
              "  </div>\n"
            ]
          },
          "metadata": {},
          "execution_count": 47
        }
      ]
    },
    {
      "cell_type": "markdown",
      "source": [
        "# Fine-tuning"
      ],
      "metadata": {
        "id": "opbDCV33zPlY"
      }
    },
    {
      "cell_type": "code",
      "source": [
        "from transformers import AutoModelForQuestionAnswering, TrainingArguments, Trainer, default_data_collator\n",
        "\n",
        "model_checkpoint = \"airesearch/wangchanberta-base-att-spm-uncased\"\n",
        "model = AutoModelForQuestionAnswering.from_pretrained(model_checkpoint)\n",
        "tokenizer = AutoTokenizer.from_pretrained(model_checkpoint) #using the same tokenizer of WangchanBERTa"
      ],
      "metadata": {
        "colab": {
          "base_uri": "https://localhost:8080/"
        },
        "id": "f4Eq-IGp8SiT",
        "outputId": "895bd09b-8e6a-460b-e8d6-3c4385ef782d"
      },
      "execution_count": 48,
      "outputs": [
        {
          "output_type": "stream",
          "name": "stderr",
          "text": [
            "Some weights of CamembertForQuestionAnswering were not initialized from the model checkpoint at airesearch/wangchanberta-base-att-spm-uncased and are newly initialized: ['qa_outputs.weight', 'qa_outputs.bias']\n",
            "You should probably TRAIN this model on a down-stream task to be able to use it for predictions and inference.\n"
          ]
        }
      ]
    },
    {
      "cell_type": "code",
      "source": [
        "batch_size = 32\n",
        "learning_rate = 2e-5\n",
        "\n",
        "args = TrainingArguments(\n",
        "    f\"finetune_thaiqa_squad\",\n",
        "    evaluation_strategy = \"epoch\",\n",
        "    learning_rate=learning_rate,\n",
        "    per_device_train_batch_size=batch_size,\n",
        "    per_device_eval_batch_size=batch_size,\n",
        "    num_train_epochs=2,\n",
        "    warmup_ratio=0.2,\n",
        "    weight_decay=0.01,\n",
        "    fp16=True\n",
        ")\n",
        "\n",
        "trainer = Trainer(\n",
        "    model=model,\n",
        "    args=args,\n",
        "    data_collator = default_data_collator,\n",
        "    train_dataset=tokenized_thaiqa_dataset['train'],\n",
        "    eval_dataset=tokenized_thaiqa_dataset['validation'],\n",
        "    tokenizer=tokenizer,\n",
        ")"
      ],
      "metadata": {
        "id": "aYMiFjEM7KeZ"
      },
      "execution_count": 50,
      "outputs": []
    },
    {
      "cell_type": "code",
      "source": [
        "trainer.train()"
      ],
      "metadata": {
        "colab": {
          "base_uri": "https://localhost:8080/",
          "height": 174
        },
        "id": "EQxwMjJZ71Ue",
        "outputId": "d6fd1c99-8929-450f-e5b8-bf39b05d8b0b"
      },
      "execution_count": 51,
      "outputs": [
        {
          "output_type": "display_data",
          "data": {
            "text/plain": [
              "<IPython.core.display.HTML object>"
            ],
            "text/html": [
              "\n",
              "    <div>\n",
              "      \n",
              "      <progress value='1044' max='1044' style='width:300px; height:20px; vertical-align: middle;'></progress>\n",
              "      [1044/1044 05:30, Epoch 2/2]\n",
              "    </div>\n",
              "    <table border=\"1\" class=\"dataframe\">\n",
              "  <thead>\n",
              " <tr style=\"text-align: left;\">\n",
              "      <th>Epoch</th>\n",
              "      <th>Training Loss</th>\n",
              "      <th>Validation Loss</th>\n",
              "    </tr>\n",
              "  </thead>\n",
              "  <tbody>\n",
              "    <tr>\n",
              "      <td>1</td>\n",
              "      <td>2.631000</td>\n",
              "      <td>2.031461</td>\n",
              "    </tr>\n",
              "    <tr>\n",
              "      <td>2</td>\n",
              "      <td>1.660000</td>\n",
              "      <td>1.951821</td>\n",
              "    </tr>\n",
              "  </tbody>\n",
              "</table><p>"
            ]
          },
          "metadata": {}
        },
        {
          "output_type": "execute_result",
          "data": {
            "text/plain": [
              "TrainOutput(global_step=1044, training_loss=2.124743187564543, metrics={'train_runtime': 334.129, 'train_samples_per_second': 99.961, 'train_steps_per_second': 3.125, 'total_flos': 7090940735923200.0, 'train_loss': 2.124743187564543, 'epoch': 2.0})"
            ]
          },
          "metadata": {},
          "execution_count": 51
        }
      ]
    },
    {
      "cell_type": "code",
      "source": [
        "#----------------------------------------save model-------------\n",
        "from google.colab import drive\n",
        "drive.mount('/content/drive')\n",
        "%cd /content/drive/MyDrive/\n",
        "\n",
        "trainer.save_model(\"/content/drive/MyDrive/QA_finetune_thaiqa_squad\")"
      ],
      "metadata": {
        "id": "qj2rTCLC7K2f"
      },
      "execution_count": null,
      "outputs": []
    },
    {
      "cell_type": "markdown",
      "source": [
        "#Using the fine-tuned model"
      ],
      "metadata": {
        "id": "DKW9UfczJctm"
      }
    },
    {
      "cell_type": "code",
      "source": [
        "from transformers import pipeline\n",
        "\n",
        "# Replace this with your own checkpoint\n",
        "model = \"/content/drive/MyDrive/finetune_thaiqa_squad\"\n",
        "question_answerer = pipeline(\"question-answering\", model=model)\n",
        "\n",
        "context = \"\"\"พัทธ์ธีรา ศรุติพงศ์โภคิน (เกิด 3 ธันวาคม พ.ศ. 2533) หรือชื่อเล่นว่า อร เป็นนักแสดงหญิงชาวไทย สำเร็จมัธยมศึกษาจากCatholic Cathedral College ประเทศนิวซีแลนด์\n",
        "และปริญญาตรีจากRaffles International College สาขา Business Marketing เข้าสู่วงการตั้งแต่อายุ 6 ขวบ จากการแสดงละครเวทีกับ ครูชลประคัลภ์ จันทร์เรือง\n",
        "จากนั้นก็เล่นโฆษณาในวัยเด็ก 2- 3 ชิ้น และยังเคยแสดงช่วงละครสั้น ในรายการซุปเปอร์จิ๋ว ประมาณปี 2542 ปัจจุบันเป็นทั้ง นักแสดง ,\n",
        "พิธีกร และ วีเจ อยู่ที่คลื่น เก็ท 102.5 Bangkok International Hits Music Station และยังเป็นพิธีกรให้กับช่อง ทรู มิวสิก\"\"\""
      ],
      "metadata": {
        "id": "m0Y-uEPlEEb7"
      },
      "execution_count": 106,
      "outputs": []
    },
    {
      "cell_type": "code",
      "source": [
        "question1 = \"พัทธ์ธีราเข้าวงการตอนอายุเท่าไหร่\"\n",
        "question2 = \"พัทธ์ธีราเข้าวงการตั้งแต่อายุเท่าไหร่\"\n",
        "question3 = \"พัทธ์ธีราเข้าวงการกี่ขวบ\"\n",
        "question4 = \"อายุที่พัทธ์ธีราเข้าวงการคือ\"\n",
        "\n",
        "ans1 = question_answerer(question=question1, context=context)\n",
        "ans2 = question_answerer(question=question2, context=context)\n",
        "ans3 = question_answerer(question=question3, context=context)\n",
        "ans4 = question_answerer(question=question4, context=context)\n",
        "\n",
        "DataFrame(\n",
        "    {\n",
        "        'question': [question1, question2, question3, question4],\n",
        "        'answer': [ans1['answer'], ans2['answer'], ans3['answer'], ans4['answer'] ],\n",
        "        'score': [ ans1['score'], ans2['score'], ans3['score'], ans4['score'] ]\n",
        "    }\n",
        ")"
      ],
      "metadata": {
        "colab": {
          "base_uri": "https://localhost:8080/",
          "height": 175
        },
        "id": "ayj4c37eJygW",
        "outputId": "67618a3a-9b12-45a1-952f-521aaea724e6"
      },
      "execution_count": 107,
      "outputs": [
        {
          "output_type": "execute_result",
          "data": {
            "text/plain": [
              "                                question  answer     score\n",
              "0      พัทธ์ธีราเข้าวงการตอนอายุเท่าไหร่   6 ขวบ  0.748101\n",
              "1  พัทธ์ธีราเข้าวงการตั้งแต่อายุเท่าไหร่   6 ขวบ  0.589396\n",
              "2               พัทธ์ธีราเข้าวงการกี่ขวบ   6 ขวบ  0.474511\n",
              "3           อายุที่พัทธ์ธีราเข้าวงการคือ   6 ขวบ  0.714449"
            ],
            "text/html": [
              "\n",
              "  <div id=\"df-cada54a4-b6ef-4895-9d2e-b149a5c7b909\" class=\"colab-df-container\">\n",
              "    <div>\n",
              "<style scoped>\n",
              "    .dataframe tbody tr th:only-of-type {\n",
              "        vertical-align: middle;\n",
              "    }\n",
              "\n",
              "    .dataframe tbody tr th {\n",
              "        vertical-align: top;\n",
              "    }\n",
              "\n",
              "    .dataframe thead th {\n",
              "        text-align: right;\n",
              "    }\n",
              "</style>\n",
              "<table border=\"1\" class=\"dataframe\">\n",
              "  <thead>\n",
              "    <tr style=\"text-align: right;\">\n",
              "      <th></th>\n",
              "      <th>question</th>\n",
              "      <th>answer</th>\n",
              "      <th>score</th>\n",
              "    </tr>\n",
              "  </thead>\n",
              "  <tbody>\n",
              "    <tr>\n",
              "      <th>0</th>\n",
              "      <td>พัทธ์ธีราเข้าวงการตอนอายุเท่าไหร่</td>\n",
              "      <td>6 ขวบ</td>\n",
              "      <td>0.748101</td>\n",
              "    </tr>\n",
              "    <tr>\n",
              "      <th>1</th>\n",
              "      <td>พัทธ์ธีราเข้าวงการตั้งแต่อายุเท่าไหร่</td>\n",
              "      <td>6 ขวบ</td>\n",
              "      <td>0.589396</td>\n",
              "    </tr>\n",
              "    <tr>\n",
              "      <th>2</th>\n",
              "      <td>พัทธ์ธีราเข้าวงการกี่ขวบ</td>\n",
              "      <td>6 ขวบ</td>\n",
              "      <td>0.474511</td>\n",
              "    </tr>\n",
              "    <tr>\n",
              "      <th>3</th>\n",
              "      <td>อายุที่พัทธ์ธีราเข้าวงการคือ</td>\n",
              "      <td>6 ขวบ</td>\n",
              "      <td>0.714449</td>\n",
              "    </tr>\n",
              "  </tbody>\n",
              "</table>\n",
              "</div>\n",
              "    <div class=\"colab-df-buttons\">\n",
              "\n",
              "  <div class=\"colab-df-container\">\n",
              "    <button class=\"colab-df-convert\" onclick=\"convertToInteractive('df-cada54a4-b6ef-4895-9d2e-b149a5c7b909')\"\n",
              "            title=\"Convert this dataframe to an interactive table.\"\n",
              "            style=\"display:none;\">\n",
              "\n",
              "  <svg xmlns=\"http://www.w3.org/2000/svg\" height=\"24px\" viewBox=\"0 -960 960 960\">\n",
              "    <path d=\"M120-120v-720h720v720H120Zm60-500h600v-160H180v160Zm220 220h160v-160H400v160Zm0 220h160v-160H400v160ZM180-400h160v-160H180v160Zm440 0h160v-160H620v160ZM180-180h160v-160H180v160Zm440 0h160v-160H620v160Z\"/>\n",
              "  </svg>\n",
              "    </button>\n",
              "\n",
              "  <style>\n",
              "    .colab-df-container {\n",
              "      display:flex;\n",
              "      gap: 12px;\n",
              "    }\n",
              "\n",
              "    .colab-df-convert {\n",
              "      background-color: #E8F0FE;\n",
              "      border: none;\n",
              "      border-radius: 50%;\n",
              "      cursor: pointer;\n",
              "      display: none;\n",
              "      fill: #1967D2;\n",
              "      height: 32px;\n",
              "      padding: 0 0 0 0;\n",
              "      width: 32px;\n",
              "    }\n",
              "\n",
              "    .colab-df-convert:hover {\n",
              "      background-color: #E2EBFA;\n",
              "      box-shadow: 0px 1px 2px rgba(60, 64, 67, 0.3), 0px 1px 3px 1px rgba(60, 64, 67, 0.15);\n",
              "      fill: #174EA6;\n",
              "    }\n",
              "\n",
              "    .colab-df-buttons div {\n",
              "      margin-bottom: 4px;\n",
              "    }\n",
              "\n",
              "    [theme=dark] .colab-df-convert {\n",
              "      background-color: #3B4455;\n",
              "      fill: #D2E3FC;\n",
              "    }\n",
              "\n",
              "    [theme=dark] .colab-df-convert:hover {\n",
              "      background-color: #434B5C;\n",
              "      box-shadow: 0px 1px 3px 1px rgba(0, 0, 0, 0.15);\n",
              "      filter: drop-shadow(0px 1px 2px rgba(0, 0, 0, 0.3));\n",
              "      fill: #FFFFFF;\n",
              "    }\n",
              "  </style>\n",
              "\n",
              "    <script>\n",
              "      const buttonEl =\n",
              "        document.querySelector('#df-cada54a4-b6ef-4895-9d2e-b149a5c7b909 button.colab-df-convert');\n",
              "      buttonEl.style.display =\n",
              "        google.colab.kernel.accessAllowed ? 'block' : 'none';\n",
              "\n",
              "      async function convertToInteractive(key) {\n",
              "        const element = document.querySelector('#df-cada54a4-b6ef-4895-9d2e-b149a5c7b909');\n",
              "        const dataTable =\n",
              "          await google.colab.kernel.invokeFunction('convertToInteractive',\n",
              "                                                    [key], {});\n",
              "        if (!dataTable) return;\n",
              "\n",
              "        const docLinkHtml = 'Like what you see? Visit the ' +\n",
              "          '<a target=\"_blank\" href=https://colab.research.google.com/notebooks/data_table.ipynb>data table notebook</a>'\n",
              "          + ' to learn more about interactive tables.';\n",
              "        element.innerHTML = '';\n",
              "        dataTable['output_type'] = 'display_data';\n",
              "        await google.colab.output.renderOutput(dataTable, element);\n",
              "        const docLink = document.createElement('div');\n",
              "        docLink.innerHTML = docLinkHtml;\n",
              "        element.appendChild(docLink);\n",
              "      }\n",
              "    </script>\n",
              "  </div>\n",
              "\n",
              "\n",
              "<div id=\"df-715bb60e-15d8-4f96-b7f6-f6ce0b0e1792\">\n",
              "  <button class=\"colab-df-quickchart\" onclick=\"quickchart('df-715bb60e-15d8-4f96-b7f6-f6ce0b0e1792')\"\n",
              "            title=\"Suggest charts\"\n",
              "            style=\"display:none;\">\n",
              "\n",
              "<svg xmlns=\"http://www.w3.org/2000/svg\" height=\"24px\"viewBox=\"0 0 24 24\"\n",
              "     width=\"24px\">\n",
              "    <g>\n",
              "        <path d=\"M19 3H5c-1.1 0-2 .9-2 2v14c0 1.1.9 2 2 2h14c1.1 0 2-.9 2-2V5c0-1.1-.9-2-2-2zM9 17H7v-7h2v7zm4 0h-2V7h2v10zm4 0h-2v-4h2v4z\"/>\n",
              "    </g>\n",
              "</svg>\n",
              "  </button>\n",
              "\n",
              "<style>\n",
              "  .colab-df-quickchart {\n",
              "      --bg-color: #E8F0FE;\n",
              "      --fill-color: #1967D2;\n",
              "      --hover-bg-color: #E2EBFA;\n",
              "      --hover-fill-color: #174EA6;\n",
              "      --disabled-fill-color: #AAA;\n",
              "      --disabled-bg-color: #DDD;\n",
              "  }\n",
              "\n",
              "  [theme=dark] .colab-df-quickchart {\n",
              "      --bg-color: #3B4455;\n",
              "      --fill-color: #D2E3FC;\n",
              "      --hover-bg-color: #434B5C;\n",
              "      --hover-fill-color: #FFFFFF;\n",
              "      --disabled-bg-color: #3B4455;\n",
              "      --disabled-fill-color: #666;\n",
              "  }\n",
              "\n",
              "  .colab-df-quickchart {\n",
              "    background-color: var(--bg-color);\n",
              "    border: none;\n",
              "    border-radius: 50%;\n",
              "    cursor: pointer;\n",
              "    display: none;\n",
              "    fill: var(--fill-color);\n",
              "    height: 32px;\n",
              "    padding: 0;\n",
              "    width: 32px;\n",
              "  }\n",
              "\n",
              "  .colab-df-quickchart:hover {\n",
              "    background-color: var(--hover-bg-color);\n",
              "    box-shadow: 0 1px 2px rgba(60, 64, 67, 0.3), 0 1px 3px 1px rgba(60, 64, 67, 0.15);\n",
              "    fill: var(--button-hover-fill-color);\n",
              "  }\n",
              "\n",
              "  .colab-df-quickchart-complete:disabled,\n",
              "  .colab-df-quickchart-complete:disabled:hover {\n",
              "    background-color: var(--disabled-bg-color);\n",
              "    fill: var(--disabled-fill-color);\n",
              "    box-shadow: none;\n",
              "  }\n",
              "\n",
              "  .colab-df-spinner {\n",
              "    border: 2px solid var(--fill-color);\n",
              "    border-color: transparent;\n",
              "    border-bottom-color: var(--fill-color);\n",
              "    animation:\n",
              "      spin 1s steps(1) infinite;\n",
              "  }\n",
              "\n",
              "  @keyframes spin {\n",
              "    0% {\n",
              "      border-color: transparent;\n",
              "      border-bottom-color: var(--fill-color);\n",
              "      border-left-color: var(--fill-color);\n",
              "    }\n",
              "    20% {\n",
              "      border-color: transparent;\n",
              "      border-left-color: var(--fill-color);\n",
              "      border-top-color: var(--fill-color);\n",
              "    }\n",
              "    30% {\n",
              "      border-color: transparent;\n",
              "      border-left-color: var(--fill-color);\n",
              "      border-top-color: var(--fill-color);\n",
              "      border-right-color: var(--fill-color);\n",
              "    }\n",
              "    40% {\n",
              "      border-color: transparent;\n",
              "      border-right-color: var(--fill-color);\n",
              "      border-top-color: var(--fill-color);\n",
              "    }\n",
              "    60% {\n",
              "      border-color: transparent;\n",
              "      border-right-color: var(--fill-color);\n",
              "    }\n",
              "    80% {\n",
              "      border-color: transparent;\n",
              "      border-right-color: var(--fill-color);\n",
              "      border-bottom-color: var(--fill-color);\n",
              "    }\n",
              "    90% {\n",
              "      border-color: transparent;\n",
              "      border-bottom-color: var(--fill-color);\n",
              "    }\n",
              "  }\n",
              "</style>\n",
              "\n",
              "  <script>\n",
              "    async function quickchart(key) {\n",
              "      const quickchartButtonEl =\n",
              "        document.querySelector('#' + key + ' button');\n",
              "      quickchartButtonEl.disabled = true;  // To prevent multiple clicks.\n",
              "      quickchartButtonEl.classList.add('colab-df-spinner');\n",
              "      try {\n",
              "        const charts = await google.colab.kernel.invokeFunction(\n",
              "            'suggestCharts', [key], {});\n",
              "      } catch (error) {\n",
              "        console.error('Error during call to suggestCharts:', error);\n",
              "      }\n",
              "      quickchartButtonEl.classList.remove('colab-df-spinner');\n",
              "      quickchartButtonEl.classList.add('colab-df-quickchart-complete');\n",
              "    }\n",
              "    (() => {\n",
              "      let quickchartButtonEl =\n",
              "        document.querySelector('#df-715bb60e-15d8-4f96-b7f6-f6ce0b0e1792 button');\n",
              "      quickchartButtonEl.style.display =\n",
              "        google.colab.kernel.accessAllowed ? 'block' : 'none';\n",
              "    })();\n",
              "  </script>\n",
              "</div>\n",
              "    </div>\n",
              "  </div>\n"
            ]
          },
          "metadata": {},
          "execution_count": 107
        }
      ]
    },
    {
      "cell_type": "code",
      "source": [
        "question = \"พัทธ์ธีรา ศรุติพงศ์โภคิน มีชื่อเล่นว่าอะไร\"\n",
        "question_answerer(question=question, context=context)"
      ],
      "metadata": {
        "colab": {
          "base_uri": "https://localhost:8080/"
        },
        "id": "GsO1nHRuQs6r",
        "outputId": "6830d6ef-fe74-4064-e5ff-c3b3bbe87d7f"
      },
      "execution_count": 108,
      "outputs": [
        {
          "output_type": "execute_result",
          "data": {
            "text/plain": [
              "{'score': 0.9933181405067444, 'start': 67, 'end': 70, 'answer': ' อร'}"
            ]
          },
          "metadata": {},
          "execution_count": 108
        }
      ]
    },
    {
      "cell_type": "code",
      "source": [
        "question = \"พัทธ์ธีรา ศรุติพงศ์โภคิน เกิดวันไหน\"\n",
        "question_answerer(question=question, context=context)"
      ],
      "metadata": {
        "colab": {
          "base_uri": "https://localhost:8080/"
        },
        "id": "m4X1LzwaFmJq",
        "outputId": "815c76f3-bd80-4e40-fed1-86598e4db1d8"
      },
      "execution_count": 109,
      "outputs": [
        {
          "output_type": "execute_result",
          "data": {
            "text/plain": [
              "{'score': 0.5565053224563599,\n",
              " 'start': 30,\n",
              " 'end': 51,\n",
              " 'answer': ' 3 ธันวาคม พ.ศ. 2533)'}"
            ]
          },
          "metadata": {},
          "execution_count": 109
        }
      ]
    },
    {
      "cell_type": "code",
      "source": [
        "question = \"พัทธ์ธีราสำเร็จมัธยมศึกษาจากไหน\"\n",
        "question_answerer(question=question, context=context)"
      ],
      "metadata": {
        "colab": {
          "base_uri": "https://localhost:8080/"
        },
        "id": "ZS31X690IWPz",
        "outputId": "fef4206b-4265-4d36-a6ab-8bb78bc085cd"
      },
      "execution_count": 110,
      "outputs": [
        {
          "output_type": "execute_result",
          "data": {
            "text/plain": [
              "{'score': 0.6329625248908997,\n",
              " 'start': 92,\n",
              " 'end': 138,\n",
              " 'answer': ' สำเร็จมัธยมศึกษาจากCatholic Cathedral College'}"
            ]
          },
          "metadata": {},
          "execution_count": 110
        }
      ]
    },
    {
      "cell_type": "code",
      "source": [
        "context = \"\"\"\n",
        "ออสเตรเลีย (อังกฤษ: Australia) หรือชื่อทางการคือ เครือรัฐออสเตรเลีย (Commonwealth of Australia) เป็นประเทศซึ่งประกอบด้วยแผ่นดินหลักของทวีปออสเตรเลีย, เกาะแทสเมเนีย และเกาะอื่น ๆ ในมหาสมุทรอินเดีย แปซิฟิก และมหาสมุทรใต้ มันเป็นประเทศที่ใหญ่เป็นอันดับหกของโลกเมื่อนับพื้นที่ทั้งหมด ประเทศเพื่อนบ้านของออสเตรเลียประกอบด้วย อินโดนีเซีย ปาปัวนิวกินีและติมอร์-เลสเตทางเหนือ หมู่เกาะโซโลมอน วานูอาตู และนิวแคลิโดเนียทางตะวันออกเฉียงเหนือ และนิวซีแลนด์ทางตะวันออกเฉียงใต้ เป็นเวลาอย่างน้อย 40,000 ปี[6] ก่อนที่จะตั้งถิ่นฐานครั้งแรกของอังกฤษในศตวรรษที่ 18,[7][8] ประเทศออสเตรเลียเป็นที่อยู่อาศัยของชาวออสเตรเลียพื้นเมือง[9] ที่พูดภาษาที่แบ่งออกได้เป็นกลุ่มประมาณ 250 ภาษา.[10][11] หลังจากการค้นพบของทวีปโดยนักสำรวจชาวดัตช์ในปี ค.ศ. 1606, ครึ่งหนึ่งของฝั่งตะวันออกของออสเตรเลียถูกอ้างว่าเป็นของสหราชอาณาจักรในปี ค.ศ. 1770 และตั้งรกรากในขั้นต้นโดยการขนส่งนักโทษมายังอาณานิคมของนิวเซาธ์เวลส์จากวันที่ 26 มกราคม ค.ศ. 1788 จำนวนประชากรเพิ่มขึ้นอย่างต่อเนื่องในทศวรรษที่ผ่านมา ทวีปถูกสำรวจ และอีกห้าอาณานิคมปกครองตนเองของพระมหากษัตริย์ถูกจัดตั้งขึ้น เมื่อวันที่ 1 มกราคม ค.ศ. 1901 หกอาณานิคมถูกตั้งขึ้นเป็นสหพันธ์, รวมตัวกันเป็นเครือรัฐออสเตรเลีย. ตั้งแต่นั้นมา ออสเตรเลียยังคงรักษาระบบการเมืองเสรีนิยมประชาธิปไตยที่มั่นคง ที่ ทำหน้าที่เป็นรัฐสภาประชาธิปไตยของรัฐบาลกลางและพระมหากษัตริย์ตามรัฐธรรมนูญ สหพันธ์ประกอบด้วยหกรัฐ และอีกหลายพื้นที่ ประชากร 23.1 ล้านคน[12] อยู่ในเมืองเป็นส่วนใหญ่และมีความหนาแน่นอย่างมากในรัฐทางตะวันออก[13] ออสเตรเลียเป็นประเทศที่พัฒนาแล้ว และเป็นหนึ่งในประเทศที่ร่ำรวยที่สุดในโลกที่มีเศรษฐกิจ ใหญ่ที่สุดเป็นอันดับที่ 12 ของโลก ในปี ค.ศ. 2012 ออสเตรเลียมีรายได้ต่อหัวที่สูงที่สุดอันดับห้าของโลก[14] ค่าใช้จ่ายทางทหารของออสเตรเลียมากที่สุดเป็นอันดับที่ 13 ของโลก ด้วยดัชนีการพัฒนามนุษย์ที่สูงที่สุดอันดับที่สองทั่วโลก, ออสเตรเลียถูกจัดอันดับที่สูงในการเปรียบเทียบระหว่างประเทศจำนวนมากของประสิทธิภาพการทำงานในระดับชาติ เช่น คุณภาพชีวิต, สุขภาพ, การศึกษา, เสรีภาพทางเศรษฐกิจ, และการปกป้องเสรีภาพของพลเมืองและสิทธิทางการเมือง.[15] ออสเตรเลียเป็นสมาชิกของสหประชาชาติ, G20, เครือจักรภพแห่งชาติ, ANZUS, องค์การเพื่อความร่วมมือทางเศรษฐกิจและการพัฒนา (OECD), องค์การการค้าโลก, ความร่วมมือทางเศรษฐกิจเอเชียแปซิฟิกและหมู่เกาะแปซิฟิกฟอรั่ม\n",
        "\"\"\"\n",
        "question = \"ชื่อทางการออสเตรเลีย\"\n",
        "question_answerer(question=question, context=context)"
      ],
      "metadata": {
        "colab": {
          "base_uri": "https://localhost:8080/"
        },
        "id": "z-9fEg25FMN7",
        "outputId": "77609c4c-a054-4f7a-8bbc-e072aca50057"
      },
      "execution_count": 111,
      "outputs": [
        {
          "output_type": "execute_result",
          "data": {
            "text/plain": [
              "{'score': 0.8942838311195374,\n",
              " 'start': 49,\n",
              " 'end': 68,\n",
              " 'answer': ' เครือรัฐออสเตรเลีย'}"
            ]
          },
          "metadata": {},
          "execution_count": 111
        }
      ]
    }
  ]
}